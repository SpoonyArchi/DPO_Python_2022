{
 "cells": [
  {
   "cell_type": "markdown",
   "metadata": {
    "id": "g2In2TZhJ7PT"
   },
   "source": [
    "# Домашнее задание № 6, ДПО\n",
    "\n",
    "\n",
    "\n"
   ]
  },
  {
   "cell_type": "markdown",
   "metadata": {
    "id": "tgTJxSUKJ7Pg"
   },
   "source": [
    "## Задание 1"
   ]
  },
  {
   "cell_type": "markdown",
   "metadata": {
    "id": "Y6rBlgU0J7Pg"
   },
   "source": [
    "Откройте датасет про покемонов. Постройте график с боксплотами для любой из количественных переменных (HP, Attack, Defense, Sp. Atk, Sp. Def, Speed) в зависимости от поколения (Generation). То есть, получится 1 график, где будут изображены 6 боксплотов. \n",
    "\n",
    "Выберите цветовую палитру или покрасьте каждый боксплот (в рамках одного графика) в свой цвет по Вашему усмотрению. Добавьте содержательное название для графика \n"
   ]
  },
  {
   "cell_type": "code",
   "execution_count": null,
   "metadata": {
    "id": "tVaz-8QAJ7Pi"
   },
   "outputs": [],
   "source": [
    "# YOUR CODE\n",
    "df = pd.read_csv('pokemon.csv')\n",
    "df.head()"
   ]
  },
  {
   "cell_type": "markdown",
   "metadata": {
    "id": "2m7mqN9sJ7Pi"
   },
   "source": [
    "## Задание 2 "
   ]
  },
  {
   "cell_type": "markdown",
   "metadata": {
    "id": "lKfaTi5-J7Pk"
   },
   "source": [
    "Визуализируйте количественные характеристики покемонов (HP, Attack, Defense, Sp. Atk, Sp. Def, Speed), чтобы посмотреть, как они связаны между собой, с помощью подходящего графика ."
   ]
  },
  {
   "cell_type": "code",
   "execution_count": null,
   "metadata": {
    "id": "nOp-5ysLJ7Pl"
   },
   "outputs": [],
   "source": []
  },
  {
   "cell_type": "markdown",
   "metadata": {
    "id": "O59y9wJiJ7Pn"
   },
   "source": [
    "## Задание 3 "
   ]
  },
  {
   "cell_type": "markdown",
   "metadata": {
    "id": "kxJA0TBjJ7Po"
   },
   "source": [
    "Придумайте, какие еще две визуализации можно построить на этих данных и постройте их. Выбор типа графической визуализации должен быть осмысленным. Настройте цвета для каждой диаграммы, добавьте легенду, название, подписи осей"
   ]
  },
  {
   "cell_type": "code",
   "execution_count": null,
   "metadata": {},
   "outputs": [],
   "source": []
  },
  {
   "cell_type": "markdown",
   "metadata": {},
   "source": [
    "## Задание 4"
   ]
  },
  {
   "cell_type": "markdown",
   "metadata": {},
   "source": [
    "- Изучите официальную документацию о работе со слайдером https://plot.ly/python/sliders/\n",
    "- Сделайте интерактивную визуализацию из 12 графиков:\n",
    "перевозки в каждом году за каждый месяц, при этом используйте столбчатые диаграммы: один столбец — данные за один месяц в конкретном году. Одновременно на графике должны отображаться 12 столбцов для сравнения динамик за все годы в выбранный месяц. Выбор месяца организуйте, используя слайдер. \n",
    "\n",
    "Вы должны получить следующую визуализацию: 1) слайдер имеет 12 позиций, 2) позиции по месяцам (действительно, у нас всего 12 месяцев в каждом году), 3) для каждого месяца, в каждой позиции визуализировано 12 столбцов — измерения в указанном месяце по конкретным годам (там всего 12 лет)."
   ]
  },
  {
   "cell_type": "code",
   "execution_count": null,
   "metadata": {},
   "outputs": [],
   "source": [
    "import plotly.graph_objects as go\n",
    "import numpy as np\n",
    "import pandas as pd\n",
    "import io\n",
    "import requests"
   ]
  },
  {
   "cell_type": "code",
   "execution_count": null,
   "metadata": {},
   "outputs": [],
   "source": [
    "url = \"https://raw.githubusercontent.com/jbrownlee/Datasets/master/airline-passengers.csv\"\n",
    "s = requests.get(url).content\n",
    "data = pd.read_csv(io.StringIO(s.decode('utf-8')))\n",
    "data['Month'] = pd.to_datetime(data['Month'])"
   ]
  }
 ],
 "metadata": {
  "anaconda-cloud": {},
  "colab": {
   "name": "ДЗ6.ipynb",
   "provenance": []
  },
  "kernelspec": {
   "display_name": "Python 3 (ipykernel)",
   "language": "python",
   "name": "python3"
  },
  "language_info": {
   "codemirror_mode": {
    "name": "ipython",
    "version": 3
   },
   "file_extension": ".py",
   "mimetype": "text/x-python",
   "name": "python",
   "nbconvert_exporter": "python",
   "pygments_lexer": "ipython3",
   "version": "3.9.7"
  }
 },
 "nbformat": 4,
 "nbformat_minor": 1
}
