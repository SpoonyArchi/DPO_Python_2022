{
 "cells": [
  {
   "cell_type": "markdown",
   "metadata": {},
   "source": [
    "# Python для анализа данных\n",
    "\n",
    "*Алла Тамбовцева, НИУ ВШЭ*\n",
    "\n",
    "дополнения: *Ян Пиле, НИУ ВШЭ*"
   ]
  },
  {
   "cell_type": "markdown",
   "metadata": {},
   "source": [
    "Посмотрим на другие примеры использования `selenium`. \n",
    "\n",
    "**Пример.** Зайдем на сайт книжного магазина и найдем все книги про Python. Загрузим библиотеку, веб-драйвер и откроем страницу в браузере через Python."
   ]
  },
  {
   "cell_type": "code",
   "execution_count": 1,
   "metadata": {},
   "outputs": [
    {
     "name": "stdout",
     "output_type": "stream",
     "text": [
      "\n"
     ]
    },
    {
     "name": "stderr",
     "output_type": "stream",
     "text": [
      "[WDM] - ====== WebDriver manager ======\n",
      "[WDM] - Current google-chrome version is 102.0.5005\n",
      "[WDM] - Get LATEST chromedriver version for 102.0.5005 google-chrome\n",
      "[WDM] - Driver [C:\\Users\\meale\\.wdm\\drivers\\chromedriver\\win32\\102.0.5005.61\\chromedriver.exe] found in cache\n",
      "C:\\Users\\meale\\AppData\\Local\\Temp/ipykernel_43236/2160715986.py:4: DeprecationWarning: executable_path has been deprecated, please pass in a Service object\n",
      "  driver = webdriver.Chrome(ChromeDriverManager().install())\n"
     ]
    }
   ],
   "source": [
    "from selenium import webdriver\n",
    "from webdriver_manager.chrome import ChromeDriverManager\n",
    "\n",
    "driver = webdriver.Chrome(ChromeDriverManager().install())"
   ]
  },
  {
   "cell_type": "code",
   "execution_count": 2,
   "metadata": {},
   "outputs": [],
   "source": [
    "#from selenium import webdriver as wb\n",
    "#br = wb.Chrome()\n",
    "\n",
    "# открываем страницу в Chrome в автоматическом режиме\n",
    "driver.get(\"http://www.biblio-globus.ru/\")"
   ]
  },
  {
   "cell_type": "markdown",
   "metadata": {},
   "source": [
    "Найдем с помощью CSS Selector'а (*SelectorGadget*) поле для ввода названия книги или автора. "
   ]
  },
  {
   "cell_type": "code",
   "execution_count": 3,
   "metadata": {},
   "outputs": [
    {
     "name": "stderr",
     "output_type": "stream",
     "text": [
      "C:\\Users\\meale\\AppData\\Local\\Temp/ipykernel_43236/208251074.py:1: DeprecationWarning: find_element_by_css_selector is deprecated. Please use find_element(by=By.CSS_SELECTOR, value=css_selector) instead\n",
      "  field = driver.find_element_by_css_selector(\"input\")\n"
     ]
    }
   ],
   "source": [
    "field = driver.find_element_by_css_selector(\"input\")"
   ]
  },
  {
   "cell_type": "markdown",
   "metadata": {},
   "source": [
    "Сохраним запрос:"
   ]
  },
  {
   "cell_type": "code",
   "execution_count": 4,
   "metadata": {},
   "outputs": [],
   "source": [
    "author = \"Python\"  # переменная author - условность"
   ]
  },
  {
   "cell_type": "markdown",
   "metadata": {},
   "source": [
    "Введем запрос в поле для поиска (`.send_keys`) и подождем чуть-чуть:"
   ]
  },
  {
   "cell_type": "code",
   "execution_count": 5,
   "metadata": {},
   "outputs": [],
   "source": [
    "field.send_keys(author)\n",
    "driver.implicitly_wait(2)  # подождем пару секунд"
   ]
  },
  {
   "cell_type": "markdown",
   "metadata": {},
   "source": [
    "Теперь найдем кнопку для поиска (значок *лупа* рядом со строкой поиска) :"
   ]
  },
  {
   "cell_type": "code",
   "execution_count": 9,
   "metadata": {},
   "outputs": [
    {
     "name": "stderr",
     "output_type": "stream",
     "text": [
      "C:\\Users\\meale\\AppData\\Local\\Temp/ipykernel_43236/4021373311.py:1: DeprecationWarning: find_element_by_css_selector is deprecated. Please use find_element(by=By.CSS_SELECTOR, value=css_selector) instead\n",
      "  submit = driver.find_element_by_css_selector(\"#search_button\")\n"
     ]
    }
   ],
   "source": [
    "submit = driver.find_element_by_css_selector(\"#search_button\")"
   ]
  },
  {
   "cell_type": "markdown",
   "metadata": {},
   "source": [
    "Кликнем на нее:"
   ]
  },
  {
   "cell_type": "code",
   "execution_count": 10,
   "metadata": {},
   "outputs": [],
   "source": [
    "submit.click()"
   ]
  },
  {
   "cell_type": "markdown",
   "metadata": {},
   "source": [
    "Сохраним первую страницу с результатами в переменную `page1`."
   ]
  },
  {
   "cell_type": "code",
   "execution_count": 11,
   "metadata": {},
   "outputs": [],
   "source": [
    "page1 = driver.page_source"
   ]
  },
  {
   "cell_type": "code",
   "execution_count": 12,
   "metadata": {},
   "outputs": [
    {
     "data": {
      "text/plain": [
       "'<html xmlns=\"http://www.w3.org/1999/xhtml\"><head><title>\\n\\t\\n\\tРезультаты поиска по запросу: «Python»\\n\\n</title><meta http-equiv=\"Content-Type\" content=\"application/xhtml+xml; charset=utf-8\"><meta name=\"description\"><meta name=\"keywords\"><meta name=\"robots\">\\n\\t<link rel=\"stylesheet\" type=\"text/css\" href=\"/search/Content/Site.css?v=77\" media=\"screen\">\\n    <link rel=\"stylesheet\" type=\"text/css\" href=\"/search/Content/jquery-ui-1.8.16.custom.css\" media=\"screen\">\\n    <link rel=\"stylesheet\" href=\"https://use.fontawesome.com/releases/v5.7.0/css/all.css\" integrity=\"sha384-lZN37f5QGtY3VHgisS14W3ExzMWZxybE1SJSEsQp9S+oqd12jhcu+A56Ebc1zFSJ\" crossorigin=\"anonymous\">\\n    <link rel=\"stylesheet\" type=\"text/css\" href=\"/search/Content/eventCalendar_theme_responsive.css\" media=\"screen\">\\n    <link rel=\"stylesheet\" type=\"text/css\" href=\"/search/Content/eventCalendar.css\" media=\"screen\">\\n    <link rel=\"stylesheet\" href=\"/search/Content/owl/assets/owl.carousel.css\">\\n    <link rel=\"stylesheet\" href=\"/search/Content/owl/assets/owl.theme.default.css\">\\n\\n    <link rel=\"stylesheet\" type=\"text/css\" href=\"/search/Content/jstree.css\" media=\"screen\">\\n    \\n    <iframe id=\"pxcelframe\" title=\"pxcelframe\" src=\"//t.sharethis.com/a/t_.htm?ver=1.943.23340&amp;cid=c010&amp;cls=B#cid=c010&amp;cls=B&amp;dmn=www.biblio-globus.ru&amp;rnd=1654679350283&amp;tt=t.dhj&amp;dhjLcy=124&amp;lbl=pxcel&amp;flbl=pxcel&amp;ll=d&amp;ver=1.943.23340&amp;ell=d&amp;cck=__stid&amp;pn=%2Fsearch%2FCatalog%2FProducts&amp;qs=na&amp;rdn=www.biblio-globus.ru&amp;rpn=%2Fsearch%2Fcatalog%2Fproducts&amp;rqs=query%3DPython%26page%3D1&amp;cc=RU&amp;cont=EU&amp;ipaddr=\" style=\"display: none;\"></iframe><script async=\"\" src=\"https://buttons-config.sharethis.com/js/5bfbed37a0286b00115a8f0d.js\"></script><script src=\"https://code.jquery.com/jquery-1.11.2.min.js\" type=\"text/javascript\"></script>\\n    <script src=\"/search/Scripts/jquery-ui-1.8.16.custom.min.js\" type=\"text/javascript\"></script> \\n    <script src=\"/search/Scripts/jquery.eventCalendar.min.js\" type=\"text/javascript\"></script>\\n\\t<script src=\"//platform-api.sharethis.com/js/sharethis.js#property=5bfbed37a0286b00115a8f0d&amp;product=inline-follow-buttons\"></script>\\n    \\n    <script src=\"/search/Scripts/jstree.js\" type=\"text/javascript\"></script> \\n    \\n\\n\\n    <!-- Include js plugin -->\\n    <script src=\"/search/Content/owl/owl.carousel.js\"></script>\\n\\n    <script type=\"text/javascript\">\\n        $(document).ready(function () {\\n\\n\\n            $(\"#html_1\").jstree().bind(\"select_node.jstree\", function (e, data) {\\n                data.instance.toggle_node(data.node);\\n                var href = data.node.a_attr.href;\\n                document.location.href = href;\\n            });\\n\\n            $(\"#html_2\").jstree().bind(\"select_node.jstree\", function (e, data) {\\n                data.instance.toggle_node(data.node);\\n                var href = data.node.a_attr.href;\\n                document.location.href = href;\\n            });\\n\\n            $(\"#html_3\").jstree().bind(\"select_node.jstree\", function (e, data) {\\n                data.instance.toggle_node(data.node);\\n                var href = data.node.a_attr.href;\\n                document.location.href = href;\\n            });\\n\\n            $(\"#html_4\").jstree().bind(\"select_node.jstree\", function (e, data) {\\n                data.instance.toggle_node(data.node);\\n                var href = data.node.a_attr.href;\\n                document.location.href = href;\\n            });\\n\\n            $(\"#html_5\").jstree().bind(\"select_node.jstree\", function (e, data) {\\n                data.instance.toggle_node(data.node);\\n                var href = data.node.a_attr.href;\\n                document.location.href = href;\\n            });\\n\\n\\n            $(\"#html_6\").jstree().bind(\"select_node.jstree\", function (e, data) {\\n                data.instance.toggle_node(data.node);\\n                var href = data.node.a_attr.href;\\n                document.location.href = href;\\n            });\\n\\n            $(\"#html_7\").jstree().bind(\"select_node.jstree\", function (e, data) {\\n                data.instance.toggle_node(data.node);\\n                var href = data.node.a_attr.href;\\n                document.location.href = href;\\n            });\\n\\n            $(\"#html_8\").jstree().bind(\"select_node.jstree\", function (e, data) {\\n                data.instance.toggle_node(data.node);\\n                var href = data.node.a_attr.href;\\n                document.location.href = href;\\n            });\\n\\n            $(\"#html_9\").jstree().bind(\"select_node.jstree\", function (e, data) {\\n                data.instance.toggle_node(data.node);\\n                var href = data.node.a_attr.href;\\n                document.location.href = href;\\n            });\\n\\n            $(\"#html_10\").jstree().bind(\"select_node.jstree\", function (e, data) {\\n                data.instance.toggle_node(data.node);\\n                var href = data.node.a_attr.href;\\n                document.location.href = href;\\n            });\\n\\n            $(\"#html_11\").jstree().bind(\"select_node.jstree\", function (e, data) {\\n                data.instance.toggle_node(data.node);\\n                var href = data.node.a_attr.href;\\n                document.location.href = href;\\n            });\\n        \\n            $(\"#owl-example\").owlCarousel({\\n                items: 1,\\n                thumbs: true,\\n                nav: false,\\n                dots: false,\\n                loop: true,\\n                autoplay: true,\\n                thumbsPrerendered: true\\n            });\\n\\n            $(\"#events\").on(\\'click\\', \\'.switch_btn\\', function () {\\n                var currentId = this.id.replace(\"event_\", \"\");\\n                var full_desrc = \\'#full_description_\\' + currentId;\\n                var desrc = \\'#description_\\' + currentId;\\n                $(full_desrc).slideToggle(\"slow\");\\n                //$(desrc).slideToggle(\"slow\");\\n                var btn_text_id = \\'#event_\\' + currentId;\\n                var btn_text = $(btn_text_id).html();\\n                if (btn_text == \\'<div class=\"event_less\">Свернуть</div>\\') {\\n                    $(btn_text_id).html(\\'<div class=\"event_more\">Подробнее</div>\\');\\n                }\\n                else {\\n                    $(btn_text_id).html(\\'<div class=\"event_less\">Свернуть</div>\\');\\n                }\\n            });\\n        });\\n    </script>\\n    \\n    <style>\\n        .ui-autocomplete-loading {\\n            background: white url(\"images/ui-anim_basic_16x16.gif\") right center no-repeat;\\n        }\\n    </style>\\n\\n<!--\\n  <script type=\"text/javascript\">\\n      $(function () {\\n          $(\"#search_field\").autocomplete({\\n              source: function (request, response) {\\n                  $.ajax({\\n                      url: \"/search/Catalog/GetSearchString\",\\n                      type: \"POST\",\\n                      dataType: \"json\",\\n                      data: {query: request.term, maxResult: 10},\\n \\t                  success: function (data) {\\n \\t                        response($.map(data, function (item) {\\n \\t                            return { label: item.Value, value: item.Value, id: item.TypeId }\\n \\t                        }))\\n \\t                  }\\n                  });\\n              },\\n              minLength: 3,\\n              select: function( event, ui ) {\\n                if(ui.item)\\n                {\\n                    window.location = \\'http://www.biblio-globus.ru/service/catalog/products?query=\\' + encodeURIComponent(ui.item.value) + \\'&page=1\\';\\n                }\\n              }\\n          });\\n      });\\n  </script>\\n -->\\n \\n</head>\\n\\n<body>\\n<table class=\"wrapper\">\\n<tbody><tr>\\n    <td class=\"left_column\"><div align=\"center\"><a href=\"http://www.biblio-globus.ru/\" id=\"logo\">\\n    <img src=\"/search/Content/Images/logo.jpg\" alt=\"\"></a></div>\\n        <div class=\"column_top_wrapper\">\\n            <div class=\"column_top\"></div>\\n        </div>\\n    </td>\\n    <td class=\"top_bg\">\\n        <div id=\"header_photo\">\\n        \\n        </div>\\n        <div class=\"top_nav\">\\n            <table width=\"100%\">\\n                <tbody><tr>\\n\\t\\t\\t\\t<td><a href=\"http://www.biblio-globus.ru/content.aspx?page_id=40\" id=\"shops_button\"></a></td>\\n                    <td><a href=\"http://www.bgshop.ru/\" target=\"_blank\" id=\"ecommerce_button\"></a></td>\\n                    <!-- <td><a href=\"http://www.biblio-globus.ru/content.aspx?page_id=5\" id=\"departments_button\"></a></td> \\n\\t\\t\\t\\t\\t<td><a href=\"http://digest.biblio-globus.ru/\" id=\"digest_button\"></a></td>-->\\n                    \\n                    <td><a href=\"http://www.biblio-globus.ru/content.aspx?page_id=14\" id=\"vendors_button\"></a></td>\\n                    <!-- <td><a href=\"http://www.biblio-globus.ru/content.aspx?page_id=306\" id=\"services_button\"></a></td> -->\\n                    <td><a href=\"http://www.biblio-globus.ru/content.aspx?page_id=15\" id=\"company_button\"></a></td>\\n                </tr>\\n            </tbody></table>\\n        </div>\\n    </td>\\n</tr>\\n<tr>\\n\\n\\n    <td class=\"left_column\" valign=\"top\">\\n\\n \\n\\n    <table width=\"100%\" border=\"0\" cellspacing=\"0\" cellpadding=\"0\" id=\"Table2\">\\n  <tbody><tr>\\n    <td valign=\"top\" align=\"center\" width=\"18%\">\\n\\n<br></td></tr>\\n  <tr>\\n    <td valign=\"top\" align=\"center\" width=\"18%\">\\n      \\n<div class=\"left_nav_divider\"></div>\\n          \\n          </td></tr>\\n\\t\\t\\t<tr>\\n\\t\\t\\t\\t<td width=\"18%\" align=\"center\" valign=\"top\"><img src=\"http://www.biblio-globus.ru/img/1px.gif\" width=\"195\" height=\"1\"><br>\\n\\n<table width=\"80%\" border=\"0\" cellspacing=\"3\" cellpadding=\"3\" id=\"Table3\">\\n<tbody>\\t\\t\\n\\n\\t\\t<tr>\\n\\t\\t<td colspan=\"3\" class=\"zag1\" style=\"color:#3a83bf;\">ИНФОРМАЦИЯ</td></tr>\\n\\t\\t<tr align=\"left\">\\n\\t\\t<td width=\"5%\"><img alt=\"\" src=\"http://www.biblio-globus.ru/img/strl.gif\" width=\"5\" height=\"5\"></td>\\n\\t\\t<td><a class=\"menu\" href=\"http://www.biblio-globus.ru/content.aspx?page_id=527\">Литературная афиша</a></td></tr>\\n\\t\\t<tr align=\"left\">\\n\\t\\t<td width=\"5%\"><img alt=\"\" src=\"http://www.biblio-globus.ru/img/strl.gif\" width=\"5\" height=\"5\"></td>\\n\\t\\t<td><a class=\"menu\" href=\"http://www.biblio-globus.ru/content.aspx?page_id=214\">Литературная гостиная им. И.Д. Сытина (клубные встречи)</a></td></tr>\\n\\t\\t\\n\\n\\t\\t<tr align=\"left\">\\n\\t\\t<td width=\"5%\"><img alt=\"\" src=\"http://www.biblio-globus.ru/img/strl.gif\" width=\"5\" height=\"5\"></td>\\n\\t\\t<td><a class=\"menu\" href=\"http://www.biblio-globus.ru/content.aspx?page_id=552\">Гильдия книжников представляет</a></td></tr>\\n\\n\\n\\t\\t<tr align=\"left\">\\n\\t\\t<td width=\"5%\"><img alt=\"\" src=\"http://www.biblio-globus.ru/img/strl.gif\" width=\"5\" height=\"5\"></td>\\n\\t\\t<td><a class=\"menu\" href=\"http://www.biblio-globus.ru/content.aspx?page_id=29\">Библио-новости</a></td></tr>\\n\\t\\t\\n\\t\\t<tr align=\"left\">\\n\\t\\t<td width=\"5%\"><img alt=\"\" src=\"http://www.biblio-globus.ru/img/strl.gif\" width=\"5\" height=\"5\"></td>\\n\\t\\t<td><a class=\"menu\" href=\"http://digest.biblio-globus.ru/\">Книжный дайджест </a></td></tr>\\n\\t\\t\\n\\t\\t<tr align=\"left\">\\n\\t\\t<td width=\"5%\"><img alt=\"\" src=\"http://www.biblio-globus.ru/img/strl.gif\" width=\"5\" height=\"5\"></td>\\n\\t\\t<td><a class=\"menu\" href=\"http://www.biblio-globus.ru/content.aspx?page_id=513\">Наши гости о нас</a></td></tr>\\n\\t\\t<tr align=\"left\">\\n\\t\\t<td width=\"5%\"><img alt=\"\" src=\"http://www.biblio-globus.ru/img/strl.gif\" width=\"5\" height=\"5\"></td>\\n\\t\\t<td><a class=\"menu\" href=\"http://www.biblio-globus.ru/content.aspx?page_id=528\">Активация клубной (дисконтной) карты</a> <sup style=\"color:red\">new</sup></td></tr>\\n\\t\\t<tr align=\"left\">\\n\\t\\t<td width=\"5%\"><img alt=\"\" src=\"http://www.biblio-globus.ru/img/strl.gif\" width=\"5\" height=\"5\"></td>\\n\\t\\t<td><a class=\"menu\" href=\"http://www.biblio-globus.ru/content.aspx?page_id=104\">Подарочная карта</a></td></tr>\\n\\t\\t<tr align=\"left\">\\n\\t\\t<td width=\"5%\"><img alt=\"\" src=\"http://www.biblio-globus.ru/img/strl.gif\" width=\"5\" height=\"5\"></td>\\n\\t\\t<td><a class=\"menu\" href=\"http://www.biblio-globus.ru/content.aspx?page_id=46\">Личный кабинет</a></td></tr>\\n\\t\\t<tr align=\"left\">\\n\\t\\t<td width=\"5%\"><img alt=\"\" src=\"http://www.biblio-globus.ru/img/strl.gif\" width=\"5\" height=\"5\"></td>\\n\\t\\t<td><a class=\"menu\" href=\"http://service.biblio-globus.ru/librariancabinet/\" target=\"_blank\">Кабинет юридического лица</a></td></tr>\\n\\t\\t<tr align=\"left\">\\n\\t\\t<td width=\"5%\"><img alt=\"\" src=\"http://www.biblio-globus.ru/img/strl.gif\" width=\"5\" height=\"5\"></td>\\n\\t\\t<td><a class=\"menu\" href=\"http://www.biblio-globus.ru/content.aspx?page_id=31\">Персональное и корпоративное обслуживание</a></td></tr>\\n\\t\\t<tr>\\n\\t\\t<td width=\"5%\"><img alt=\"\" src=\"/img/strl.gif\"></td>\\n\\t\\t<td><a class=\"menu\" href=\"/content.aspx?page_id=554\">Ваши мероприятия у нас</a></td></tr>\\n\\t\\t<tr>\\n\\t\\t<td width=\"5%\"><img alt=\"\" src=\"/img/strl.gif\"></td>\\n\\t\\t<td><a class=\"menu\" href=\"http://www.biblio-globus.ru/career/\">Вакансии</a></td></tr>\\n</tbody>\\n</table>\\n\\t\\t\\t\\t\\t\\n<table width=\"100%\" border=\"0\" cellspacing=\"0\" cellpadding=\"0\" id=\"Table4\">\\n<tbody>\\n\\n<tr align=\"center\">\\n<td>\\n<div class=\"left_nav_divider\"></div>\\n</td>\\n</tr>\\n\\n\\n\\n\\n\\n\\n\\t\\t\\t\\t\\t\\t<tr align=\"center\">\\n\\t\\t<td>\\n\\t\\t\\n\\t\\t\\n\\t\\t\\n\\t\\t\\n\\t\\t\\n\\t\\t\\n\\t\\t<div align=\"left\" style=\"width:170px; margin-left:10px; margin-top:40px;\">\\n\\t\\t<div style=\"width:170px; padding:0; font-family:Tahoma; font-size:11px; text-align:left; height:24px; margin-left:0px; margin-right:0; margin-top:0; margin-bottom:20px\"><img alt=\"\" src=\"http://www.biblio-globus.ru/images/social/social_title.jpg\"></div>\\n\\t\\t\\n\\t\\t<img style=\"vertical-align:middle; margin:0 10px 0 0;\" src=\"http://www.biblio-globus.ru/images/_today/vk_bgbg.jpg\" alt=\"Библио Глобус\" border=\"0\"><a href=\"http://vk.com/biblioglobus_msk\" target=\"_blank\" class=\"social_vkontakte\"> \\n\\t\\tмы в Вконтакте</a>\\t\\n\\t\\t<a href=\"http://www.facebook.com/biblio.globus/\" target=\"_blank\" class=\"social_facebook\"> \\n\\t\\tмы в Facebook</a>\\t\\t\\n\\t\\t<a href=\"http://twitter.com/Biblio_Globus/\" target=\"_blank\" class=\"social_twitter\"> \\n\\t\\tмы в Twitter</a>\\n\\t\\t\\n<a href=\"https://instagram.com/biblio.globus/\" target=\"_blank\" class=\"social_inst\"> \\n\\t\\tмы в Instagram</a>\\n\\n<a href=\"https://ok.ru/group/55673286951161\" target=\"_blank\" class=\"social_ok\">мы в Одноклассниках</a>\\n\\n       \\n\\t\\t<a href=\"http://www.youtube.com/user/BiblioGlobusStore/\" target=\"_blank\" class=\"social_you\"> \\n\\t\\tмы в YouTube</a>\\n\\n\\n\\n\\t\\t</div>\\t\\n\\t\\t\\n\\t\\t\\n\\t\\t<br><br><a href=\"http://www.biblio-globus.ru/content.aspx?page_id=328\" style=\"width:170px; text-align:left; height:24px;  margin-top:30px;\"><img src=\"http://www.biblio-globus.ru/images/nashi_nagr.jpg\" alt=\"\" border=\"0\"></a>\\n\\t\\t\\n\\t\\t\\n\\t\\t<div style=\"width:170px; padding:0; margin:15px 0 20px 0px; font-family:Tahoma; font-size:11px; text-align:left;\">\\n\\t\\t  <img style=\"border:2px solid #ccc; margin-bottom:3px;\" src=\"http://www.biblio-globus.ru/images/1_16042010.jpg\" alt=\"\"><br>\\n\\t\\t  <b>Благодарность Президента РФ</b> за большой вклад в развитие \\n\\t\\t\\tотечественной книжной торговли и активную культурно-просветительскую \\n\\t\\t\\tдеятельность.\\n\\t\\t</div>\\t\\n\\t\\t\\n\\t\\t<div style=\"width:174px; padding:0; font-family:Tahoma; font-size:11px; text-align:left; height:316px; margin-left:0px; margin-right:0; margin-top:0; margin-bottom:20px\">\\n\\t\\t  <img style=\"border:2px solid #ccc; margin-bottom:3px;\" src=\"http://www.biblio-globus.ru/images/_today/Record28122011.jpg\" alt=\"\"><br>\\n          Внесен в Российскую <b>«Книгу рекордов и достижений»</b> в номинации \\n\\t\\t\\t«Самое большое количество издательской продукции, проданное в \\n\\t\\t\\tрозницу за один день»<br><br>\\n\\t\\t\\t<a href=\"http://www.biblio-globus.ru/content.aspx?page_id=328\">Посмотреть все награды &gt;&gt;</a>\\n        </div>\\n\\t\\t</td>\\n\\t\\t</tr></tbody></table><br>\\n\\t\\t\\t\\t</td>\\n\\t\\t\\t</tr></tbody></table>\\n    \\n  \\n    <div class=\"decor2_wrapper\">\\n        <div class=\"decor2\"></div>\\n    </div>\\n\\n    </td>\\n    <td class=\"column_right\" valign=\"top\">\\n        <div class=\"content\">\\n            \\n\\n<div id=\"main_wrapper\">\\n    <!-- Поиск по сайту -->\\n<div class=\"header_1\">Поиск в книжном магазине «Библио-Глобус»</div>\\n\\n<form action=\"/search/Catalog/Products\" name=\"\" method=\"post\">\\n    <table cellpadding=\"0\" cellspacing=\"0\" width=\"100%\">\\n        <tbody><tr>\\n            <td><input type=\"text\" name=\"query\" id=\"search_field\" value=\"Python\"></td>\\n            <td align=\"right\" width=\"63\"><input type=\"submit\" id=\"search_button\" value=\"\"></td>\\n        </tr>\\n    </tbody></table>\\n</form>\\n\\n    <div class=\"header_1_2\">Результаты поиска</div>\\n    <div class=\"info\">Вы искали: «<b>Python</b>»<br> \\n    Найдено наименований: <b>164</b></div>\\n\\n    <table cellpadding=\"0\" cellspacing=\"0\" width=\"100%\">\\n        \\n        <tbody><tr>\\n        <td width=\"100\" valign=\"top\">\\n        <div class=\"type\">Книга</div>\\n            <a href=\"/search/catalog/details/10846601\" class=\"preview_image\">\\n                \\n                    <div class=\"new\">Новинка</div>\\n                \\n\\n                <img src=\"http://static.biblio-globus.ru/images/ImageHandler.ashx?fileName=10846601.jpg&amp;width=80\" alt=\"\">\\n            </a>\\n        </td>\\n        <td valign=\"top\">\\n            <div class=\"details_1\">\\n                <div class=\"author\">А. Мюллер, С. Гвидо</div>\\n                <a href=\"/search/catalog/details/10846601\" class=\"name\">Машинное обучение с помощью Python. Руководство для специалистов по работе с данными</a>\\n                   \\n                \\n                    <div class=\"title_data green\">\\n                        В наличии\\n                    </div>\\n                \\n                    <div class=\"placement\"><b>Расположение в торговом зале:</b> <br>Уровень 1, зал № 07, секция 08, шкаф 85, полка 04</div>\\n                \\n                <div class=\"title_data price\">Цена: <span>3519,00</span> руб.</div>\\n\\t\\t\\n\\n            </div>\\n        </td>\\n        <td valign=\"top\" width=\"270\">\\n        \\n            <a class=\"place\" target=\"_blank\" href=\"http://www.biblio-globus.ru/content.aspx?page_id=103\">Посмотреть место в зале</a>\\n        \\n            <a class=\"im\" target=\"_blank\" href=\"https://www.bgshop.ru/catalog/getfulldescription?id=10846601\">Заказать в интернет-магазине</a>\\n        \\n        </td>\\n        </tr>\\n        <tr>\\n            <td colspan=\"3\">\\n                <div class=\"divider\"></div>\\n            </td>\\n        </tr>\\n        \\n        <tr>\\n        <td width=\"100\" valign=\"top\">\\n        <div class=\"type\">Книга</div>\\n            <a href=\"/search/catalog/details/10852290\" class=\"preview_image\">\\n                \\n                    <div class=\"new\">Новинка</div>\\n                \\n\\n                <img src=\"http://static.biblio-globus.ru/images/ImageHandler.ashx?fileName=10852290.jpg&amp;width=80\" alt=\"\">\\n            </a>\\n        </td>\\n        <td valign=\"top\">\\n            <div class=\"details_1\">\\n                <div class=\"author\">Н. М. Ершов</div>\\n                <a href=\"/search/catalog/details/10852290\" class=\"name\">Практическое введение в решение дифференциальных уравнений в Python</a>\\n                   \\n                \\n                    <div class=\"title_data green\">\\n                        В наличии\\n                    </div>\\n                \\n                    <div class=\"placement\"><b>Расположение в торговом зале:</b> <br>Уровень 1, зал № 07, секция 08, шкаф 76, полка 05</div>\\n                \\n                <div class=\"title_data price\">Цена: <span>2619,00</span> руб.</div>\\n\\t\\t\\n\\n            </div>\\n        </td>\\n        <td valign=\"top\" width=\"270\">\\n        \\n            <a class=\"place\" target=\"_blank\" href=\"http://www.biblio-globus.ru/content.aspx?page_id=103\">Посмотреть место в зале</a>\\n        \\n            <a class=\"im\" target=\"_blank\" href=\"https://www.bgshop.ru/catalog/getfulldescription?id=10852290\">Заказать в интернет-магазине</a>\\n        \\n        </td>\\n        </tr>\\n        <tr>\\n            <td colspan=\"3\">\\n                <div class=\"divider\"></div>\\n            </td>\\n        </tr>\\n        \\n        <tr>\\n        <td width=\"100\" valign=\"top\">\\n        <div class=\"type\">Книга</div>\\n            <a href=\"/search/catalog/details/10736311\" class=\"preview_image\">\\n                \\n                    <div class=\"bestseller\">Лидер продаж</div>\\n                \\n\\n                <img src=\"http://static.biblio-globus.ru/images/ImageHandler.ashx?fileName=10736311.jpg&amp;width=80\" alt=\"\">\\n            </a>\\n        </td>\\n        <td valign=\"top\">\\n            <div class=\"details_1\">\\n                <div class=\"author\">Б. Любанович</div>\\n                <a href=\"/search/catalog/details/10736311\" class=\"name\">Простой Python. Современный стиль программирования</a>\\n                   \\n                \\n                    <div class=\"title_data green\">\\n                        В наличии\\n                    </div>\\n                \\n                    <div class=\"placement\"><b>Расположение в торговом зале:</b> <br>Уровень 1, зал № 07, секция 08, шкаф 76, полка 03</div>\\n                \\n                <div class=\"title_data price\">Цена: <span>2019,00</span> руб.</div>\\n\\t\\t\\n\\n            </div>\\n        </td>\\n        <td valign=\"top\" width=\"270\">\\n        \\n            <a class=\"place\" target=\"_blank\" href=\"http://www.biblio-globus.ru/content.aspx?page_id=103\">Посмотреть место в зале</a>\\n        \\n            <a class=\"im\" target=\"_blank\" href=\"https://www.bgshop.ru/catalog/getfulldescription?id=10736311\">Заказать в интернет-магазине</a>\\n        \\n        </td>\\n        </tr>\\n        <tr>\\n            <td colspan=\"3\">\\n                <div class=\"divider\"></div>\\n            </td>\\n        </tr>\\n        \\n        <tr>\\n        <td width=\"100\" valign=\"top\">\\n        <div class=\"type\">Книга</div>\\n            <a href=\"/search/catalog/details/10597875\" class=\"preview_image\">\\n                \\n                    <div class=\"bestseller\">Лидер продаж</div>\\n                \\n\\n                <img src=\"http://static.biblio-globus.ru/images/ImageHandler.ashx?fileName=10597875.jpg&amp;width=80\" alt=\"\">\\n            </a>\\n        </td>\\n        <td valign=\"top\">\\n            <div class=\"details_1\">\\n                <div class=\"author\">М.  Лутц</div>\\n                <a href=\"/search/catalog/details/10597875\" class=\"name\">Изучаем Python, том 1</a>\\n                   \\n                \\n                    <div class=\"title_data green\">\\n                        В наличии\\n                    </div>\\n                \\n                    <div class=\"placement\"><b>Расположение в торговом зале:</b> <br>Уровень 1, зал № 07, секция 08, шкаф 76, полка 01</div>\\n                \\n                <div class=\"title_data price\">Цена: <span>4459,00</span> руб.</div>\\n\\t\\t\\n\\n            </div>\\n        </td>\\n        <td valign=\"top\" width=\"270\">\\n        \\n            <a class=\"place\" target=\"_blank\" href=\"http://www.biblio-globus.ru/content.aspx?page_id=103\">Посмотреть место в зале</a>\\n        \\n            <a class=\"im\" target=\"_blank\" href=\"https://www.bgshop.ru/catalog/getfulldescription?id=10597875\">Заказать в интернет-магазине</a>\\n        \\n        </td>\\n        </tr>\\n        <tr>\\n            <td colspan=\"3\">\\n                <div class=\"divider\"></div>\\n            </td>\\n        </tr>\\n        \\n        <tr>\\n        <td width=\"100\" valign=\"top\">\\n        <div class=\"type\">Книга</div>\\n            <a href=\"/search/catalog/details/10569801\" class=\"preview_image\">\\n                \\n                    <div class=\"bestseller\">Лидер продаж</div>\\n                \\n\\n                <img src=\"http://static.biblio-globus.ru/images/ImageHandler.ashx?fileName=10569801.jpg&amp;width=80\" alt=\"\">\\n            </a>\\n        </td>\\n        <td valign=\"top\">\\n            <div class=\"details_1\">\\n                <div class=\"author\">М. Доусон</div>\\n                <a href=\"/search/catalog/details/10569801\" class=\"name\">Программируем на Python</a>\\n                   \\n                \\n                    <div class=\"title_data green\">\\n                        В наличии\\n                    </div>\\n                \\n                    <div class=\"placement\"><b>Расположение в торговом зале:</b> <br>Уровень 1, зал № 07, секция 08, шкаф 76, полка 04</div>\\n                \\n                <div class=\"title_data price\">Цена: <span>1359,00</span> руб.</div>\\n\\t\\t\\n\\n            </div>\\n        </td>\\n        <td valign=\"top\" width=\"270\">\\n        \\n            <a class=\"place\" target=\"_blank\" href=\"http://www.biblio-globus.ru/content.aspx?page_id=103\">Посмотреть место в зале</a>\\n        \\n            <a class=\"im\" target=\"_blank\" href=\"https://www.bgshop.ru/catalog/getfulldescription?id=10569801\">Заказать в интернет-магазине</a>\\n        \\n        </td>\\n        </tr>\\n        <tr>\\n            <td colspan=\"3\">\\n                <div class=\"divider\"></div>\\n            </td>\\n        </tr>\\n        \\n        <tr>\\n        <td width=\"100\" valign=\"top\">\\n        <div class=\"type\">Книга</div>\\n            <a href=\"/search/catalog/details/10831877\" class=\"preview_image\">\\n                \\n                    <div class=\"bestseller\">Лидер продаж</div>\\n                \\n\\n                <img src=\"http://static.biblio-globus.ru/images/ImageHandler.ashx?fileName=10831877.jpg&amp;width=80\" alt=\"\">\\n            </a>\\n        </td>\\n        <td valign=\"top\">\\n            <div class=\"details_1\">\\n                <div class=\"author\">Э. Свейгарт</div>\\n                <a href=\"/search/catalog/details/10831877\" class=\"name\">Большая книга проектов Python</a>\\n                   \\n                \\n                    <div class=\"title_data green\">\\n                        В наличии\\n                    </div>\\n                \\n                    <div class=\"placement\"><b>Расположение в торговом зале:</b> <br>Уровень 1, зал № 07, секция 08, шкаф 76, полка 06</div>\\n                \\n                <div class=\"title_data price\">Цена: <span>1669,00</span> руб.</div>\\n\\t\\t\\n\\n            </div>\\n        </td>\\n        <td valign=\"top\" width=\"270\">\\n        \\n            <a class=\"place\" target=\"_blank\" href=\"http://www.biblio-globus.ru/content.aspx?page_id=103\">Посмотреть место в зале</a>\\n        \\n            <a class=\"im\" target=\"_blank\" href=\"https://www.bgshop.ru/catalog/getfulldescription?id=10831877\">Заказать в интернет-магазине</a>\\n        \\n        </td>\\n        </tr>\\n        <tr>\\n            <td colspan=\"3\">\\n                <div class=\"divider\"></div>\\n            </td>\\n        </tr>\\n        \\n        <tr>\\n        <td width=\"100\" valign=\"top\">\\n        <div class=\"type\">Книга</div>\\n            <a href=\"/search/catalog/details/10816233\" class=\"preview_image\">\\n                \\n                    <div class=\"bestseller\">Лидер продаж</div>\\n                \\n\\n                <img src=\"http://static.biblio-globus.ru/images/ImageHandler.ashx?fileName=10816233.jpg&amp;width=80\" alt=\"\">\\n            </a>\\n        </td>\\n        <td valign=\"top\">\\n            <div class=\"details_1\">\\n                <div class=\"author\">К. Майер</div>\\n                <a href=\"/search/catalog/details/10816233\" class=\"name\">Однострочники Python: лаконичный и содержательный код</a>\\n                   \\n                \\n                    <div class=\"title_data green\">\\n                        В наличии\\n                    </div>\\n                \\n                    <div class=\"placement\"><b>Расположение в торговом зале:</b> <br>Уровень 1, зал № 07, секция 08, шкаф 76, полка 06</div>\\n                \\n                <div class=\"title_data price\">Цена: <span>1669,00</span> руб.</div>\\n\\t\\t\\n\\n            </div>\\n        </td>\\n        <td valign=\"top\" width=\"270\">\\n        \\n            <a class=\"place\" target=\"_blank\" href=\"http://www.biblio-globus.ru/content.aspx?page_id=103\">Посмотреть место в зале</a>\\n        \\n            <a class=\"im\" target=\"_blank\" href=\"https://www.bgshop.ru/catalog/getfulldescription?id=10816233\">Заказать в интернет-магазине</a>\\n        \\n        </td>\\n        </tr>\\n        <tr>\\n            <td colspan=\"3\">\\n                <div class=\"divider\"></div>\\n            </td>\\n        </tr>\\n        \\n        <tr>\\n        <td width=\"100\" valign=\"top\">\\n        <div class=\"type\">Книга</div>\\n            <a href=\"/search/catalog/details/10632642\" class=\"preview_image\">\\n                \\n                    <div class=\"bestseller\">Лидер продаж</div>\\n                \\n\\n                <img src=\"http://static.biblio-globus.ru/images/ImageHandler.ashx?fileName=10632642.jpg&amp;width=80\" alt=\"\">\\n            </a>\\n        </td>\\n        <td valign=\"top\">\\n            <div class=\"details_1\">\\n                <div class=\"author\">М.Лутц</div>\\n                <a href=\"/search/catalog/details/10632642\" class=\"name\">Изучаем Python, том 2,</a>\\n                   \\n                \\n                    <div class=\"title_data green\">\\n                        В наличии\\n                    </div>\\n                \\n                    <div class=\"placement\"><b>Расположение в торговом зале:</b> <br>Уровень 1, зал № 07, секция 08, шкаф 76, полка 01</div>\\n                \\n                <div class=\"title_data price\">Цена: <span>4459,00</span> руб.</div>\\n\\t\\t\\n\\n            </div>\\n        </td>\\n        <td valign=\"top\" width=\"270\">\\n        \\n            <a class=\"place\" target=\"_blank\" href=\"http://www.biblio-globus.ru/content.aspx?page_id=103\">Посмотреть место в зале</a>\\n        \\n            <a class=\"im\" target=\"_blank\" href=\"https://www.bgshop.ru/catalog/getfulldescription?id=10632642\">Заказать в интернет-магазине</a>\\n        \\n        </td>\\n        </tr>\\n        <tr>\\n            <td colspan=\"3\">\\n                <div class=\"divider\"></div>\\n            </td>\\n        </tr>\\n        \\n        <tr>\\n        <td width=\"100\" valign=\"top\">\\n        <div class=\"type\">Книга</div>\\n            <a href=\"/search/catalog/details/10532193\" class=\"preview_image\">\\n                \\n                    <div class=\"bestseller\">Лидер продаж</div>\\n                \\n\\n                <img src=\"http://static.biblio-globus.ru/images/ImageHandler.ashx?fileName=10532193.jpg&amp;width=80\" alt=\"\">\\n            </a>\\n        </td>\\n        <td valign=\"top\">\\n            <div class=\"details_1\">\\n                <div class=\"author\">Н. Седер</div>\\n                <a href=\"/search/catalog/details/10532193\" class=\"name\">Python. Экспресс-курс</a>\\n                   \\n                \\n                    <div class=\"title_data green\">\\n                        В наличии\\n                    </div>\\n                \\n                    <div class=\"placement\"><b>Расположение в торговом зале:</b> <br>Уровень 1, зал № 07, секция 08, шкаф 76, полка 03</div>\\n                \\n                <div class=\"title_data price\">Цена: <span>1669,00</span> руб.</div>\\n\\t\\t\\n\\n            </div>\\n        </td>\\n        <td valign=\"top\" width=\"270\">\\n        \\n            <a class=\"place\" target=\"_blank\" href=\"http://www.biblio-globus.ru/content.aspx?page_id=103\">Посмотреть место в зале</a>\\n        \\n            <a class=\"im\" target=\"_blank\" href=\"https://www.bgshop.ru/catalog/getfulldescription?id=10532193\">Заказать в интернет-магазине</a>\\n        \\n        </td>\\n        </tr>\\n        <tr>\\n            <td colspan=\"3\">\\n                <div class=\"divider\"></div>\\n            </td>\\n        </tr>\\n        \\n        <tr>\\n        <td width=\"100\" valign=\"top\">\\n        <div class=\"type\">Книга</div>\\n            <a href=\"/search/catalog/details/10410028\" class=\"preview_image\">\\n                \\n                    <div class=\"bestseller\">Лидер продаж</div>\\n                \\n\\n                <img src=\"http://static.biblio-globus.ru/images/ImageHandler.ashx?fileName=10410028.jpg&amp;width=80\" alt=\"\">\\n            </a>\\n        </td>\\n        <td valign=\"top\">\\n            <div class=\"details_1\">\\n                <div class=\"author\">П. Бэрри</div>\\n                <a href=\"/search/catalog/details/10410028\" class=\"name\">Изучаем программирование на Python</a>\\n                   \\n                \\n                    <div class=\"title_data green\">\\n                        В наличии\\n                    </div>\\n                \\n                    <div class=\"placement\"><b>Расположение в торговом зале:</b> <br>Уровень 1, зал № 07, секция 08, шкаф 76, полка 01</div>\\n                \\n                <div class=\"title_data price\">Цена: <span>1859,00</span> руб.</div>\\n\\t\\t\\n\\n            </div>\\n        </td>\\n        <td valign=\"top\" width=\"270\">\\n        \\n            <a class=\"place\" target=\"_blank\" href=\"http://www.biblio-globus.ru/content.aspx?page_id=103\">Посмотреть место в зале</a>\\n        \\n            <a class=\"im\" target=\"_blank\" href=\"https://www.bgshop.ru/catalog/getfulldescription?id=10410028\">Заказать в интернет-магазине</a>\\n        \\n        </td>\\n        </tr>\\n        <tr>\\n            <td colspan=\"3\">\\n                <div class=\"divider\"></div>\\n            </td>\\n        </tr>\\n        \\n        </tbody></table>\\n        <ul class=\"pagination\"><div class=\"current_page\">1<span class=\"left_corner\"></span></div><a class=\"page\" href=\"products?query=Python&amp;page=2\">2<span class=\"left_corner\"></span></a><a class=\"page\" href=\"products?query=Python&amp;page=3\">3<span class=\"left_corner\"></span></a><a class=\"next_page\" href=\"products?query=Python&amp;page=2\">Следующая</a><a class=\"next_page\" href=\"products?query=Python&amp;page=17\">Последняя</a> </ul>\\n        \\n    </div>\\n\\n            <div class=\"clearer\"></div>\\n        </div>\\n    </td>\\n</tr>\\n<tr>\\n    <!-- footer -->\\n    \\n    <td colspan=\"2\">\\n        <table class=\"footer\">\\n            <tbody><tr>\\n                <td width=\"217\" valign=\"top\">\\n&nbsp;\\n                </td>\\n                <td valign=\"top\">\\n                    <div class=\"footer_part_1\">\\n                        2022 OOO Торговый Дом «БИБЛИО-ГЛОБУС»\\n                        <br><br>\\n                        телефон: (495) 781-1900<br>\\n                        e-mail: <a href=\"mailto:web.logist@bgshop.ru\">mail@biblio-globus.ru</a>\\n                        <br><br>\\n                        Адрес: Мясницкая ул., д. 6/3, стр. 1.<br>\\n                        Проезд до станций метро: \"Лубянка\",<br>\\n                        \"Кузнецкий мост\", \"Китай-город\".\\n                        <br><br>\\n                        <!-- <a href=\"http://www.biblio-globus.ru/content.aspx?page_id=40\">карта проезда</a> -->\\n                        \\n                    </div>\\n                </td>\\n                <td valign=\"top\">\\n                    <div class=\"footer_part_2\">\\n                        Часы работы:\\n                        <br><br>\\n                        Будни: 9.00 - 21.00<br>\\n                        Выходные: 10.00 - 21.00<br>\\n                        Без перерыва.\\n                        <br><br>\\n                        <a href=\"http://www.biblio-globus.ru/content.aspx?page_id=103\">карта магазина</a>\\n                    </div>\\n                </td>\\n                <td valign=\"top\">\\n                    <div class=\"footer_part_3\">\\n                        Справки о наличии книг:\\n                        <br><br>\\n                        7 (495) 781-19-00<br>\\n                        7 (495) 624-46-80<br>\\n                        <br><br>\\n                        Интернет-магазин:<br>\\n                        <a href=\"http://www.bgshop.ru/\" target=\"_blank\">www.bgshop.ru</a><br>\\n\\t\\t\\t\\t\\t\\t<!--\\n\\t\\t\\t\\t\\t\\tПрием заказов на курьерскую доставку и самовывоз<br />\\n\\t\\t\\t\\t\\t\\tС 10.00-19.00<br />\\n\\t\\t\\t\\t\\t\\tтелефон Call-центра интернет-магазина:<br />(495)&nbsp;781-19-12&nbsp;доб.&nbsp;(2307;&nbsp;2348)\\n\\t\\t\\t\\t\\t\\t-->\\n\\t\\t\\t\\t\\t\\t\\n                    </div>\\n                </td>\\n            </tr>\\n        </tbody></table>\\n    </td>\\n    <!-- footer -->\\n</tr>\\n</tbody></table>\\n\\n\\n\\n</body></html>'"
      ]
     },
     "execution_count": 12,
     "metadata": {},
     "output_type": "execute_result"
    }
   ],
   "source": [
    "page1"
   ]
  },
  {
   "cell_type": "markdown",
   "metadata": {},
   "source": [
    "Теперь обработаем эту страницу через `BeautifulSoup`:"
   ]
  },
  {
   "cell_type": "code",
   "execution_count": 13,
   "metadata": {},
   "outputs": [],
   "source": [
    "from bs4 import BeautifulSoup"
   ]
  },
  {
   "cell_type": "code",
   "execution_count": 14,
   "metadata": {},
   "outputs": [],
   "source": [
    "soup1 = BeautifulSoup(page1, 'lxml')"
   ]
  },
  {
   "cell_type": "code",
   "execution_count": 15,
   "metadata": {},
   "outputs": [
    {
     "data": {
      "text/plain": [
       "<html xmlns=\"http://www.w3.org/1999/xhtml\"><head><title>\n",
       "\t\n",
       "\tРезультаты поиска по запросу: «Python»\n",
       "\n",
       "</title><meta content=\"application/xhtml+xml; charset=utf-8\" http-equiv=\"Content-Type\"/><meta name=\"description\"/><meta name=\"keywords\"/><meta name=\"robots\"/>\n",
       "<link href=\"/search/Content/Site.css?v=77\" media=\"screen\" rel=\"stylesheet\" type=\"text/css\"/>\n",
       "<link href=\"/search/Content/jquery-ui-1.8.16.custom.css\" media=\"screen\" rel=\"stylesheet\" type=\"text/css\"/>\n",
       "<link crossorigin=\"anonymous\" href=\"https://use.fontawesome.com/releases/v5.7.0/css/all.css\" integrity=\"sha384-lZN37f5QGtY3VHgisS14W3ExzMWZxybE1SJSEsQp9S+oqd12jhcu+A56Ebc1zFSJ\" rel=\"stylesheet\"/>\n",
       "<link href=\"/search/Content/eventCalendar_theme_responsive.css\" media=\"screen\" rel=\"stylesheet\" type=\"text/css\"/>\n",
       "<link href=\"/search/Content/eventCalendar.css\" media=\"screen\" rel=\"stylesheet\" type=\"text/css\"/>\n",
       "<link href=\"/search/Content/owl/assets/owl.carousel.css\" rel=\"stylesheet\"/>\n",
       "<link href=\"/search/Content/owl/assets/owl.theme.default.css\" rel=\"stylesheet\"/>\n",
       "<link href=\"/search/Content/jstree.css\" media=\"screen\" rel=\"stylesheet\" type=\"text/css\"/>\n",
       "</head><body><iframe id=\"pxcelframe\" src=\"//t.sharethis.com/a/t_.htm?ver=1.943.23340&amp;cid=c010&amp;cls=B#cid=c010&amp;cls=B&amp;dmn=www.biblio-globus.ru&amp;rnd=1654679350283&amp;tt=t.dhj&amp;dhjLcy=124&amp;lbl=pxcel&amp;flbl=pxcel&amp;ll=d&amp;ver=1.943.23340&amp;ell=d&amp;cck=__stid&amp;pn=%2Fsearch%2FCatalog%2FProducts&amp;qs=na&amp;rdn=www.biblio-globus.ru&amp;rpn=%2Fsearch%2Fcatalog%2Fproducts&amp;rqs=query%3DPython%26page%3D1&amp;cc=RU&amp;cont=EU&amp;ipaddr=\" style=\"display: none;\" title=\"pxcelframe\"></iframe><script async=\"\" src=\"https://buttons-config.sharethis.com/js/5bfbed37a0286b00115a8f0d.js\"></script><script src=\"https://code.jquery.com/jquery-1.11.2.min.js\" type=\"text/javascript\"></script>\n",
       "<script src=\"/search/Scripts/jquery-ui-1.8.16.custom.min.js\" type=\"text/javascript\"></script>\n",
       "<script src=\"/search/Scripts/jquery.eventCalendar.min.js\" type=\"text/javascript\"></script>\n",
       "<script src=\"//platform-api.sharethis.com/js/sharethis.js#property=5bfbed37a0286b00115a8f0d&amp;product=inline-follow-buttons\"></script>\n",
       "<script src=\"/search/Scripts/jstree.js\" type=\"text/javascript\"></script>\n",
       "<!-- Include js plugin -->\n",
       "<script src=\"/search/Content/owl/owl.carousel.js\"></script>\n",
       "<script type=\"text/javascript\">\n",
       "        $(document).ready(function () {\n",
       "\n",
       "\n",
       "            $(\"#html_1\").jstree().bind(\"select_node.jstree\", function (e, data) {\n",
       "                data.instance.toggle_node(data.node);\n",
       "                var href = data.node.a_attr.href;\n",
       "                document.location.href = href;\n",
       "            });\n",
       "\n",
       "            $(\"#html_2\").jstree().bind(\"select_node.jstree\", function (e, data) {\n",
       "                data.instance.toggle_node(data.node);\n",
       "                var href = data.node.a_attr.href;\n",
       "                document.location.href = href;\n",
       "            });\n",
       "\n",
       "            $(\"#html_3\").jstree().bind(\"select_node.jstree\", function (e, data) {\n",
       "                data.instance.toggle_node(data.node);\n",
       "                var href = data.node.a_attr.href;\n",
       "                document.location.href = href;\n",
       "            });\n",
       "\n",
       "            $(\"#html_4\").jstree().bind(\"select_node.jstree\", function (e, data) {\n",
       "                data.instance.toggle_node(data.node);\n",
       "                var href = data.node.a_attr.href;\n",
       "                document.location.href = href;\n",
       "            });\n",
       "\n",
       "            $(\"#html_5\").jstree().bind(\"select_node.jstree\", function (e, data) {\n",
       "                data.instance.toggle_node(data.node);\n",
       "                var href = data.node.a_attr.href;\n",
       "                document.location.href = href;\n",
       "            });\n",
       "\n",
       "\n",
       "            $(\"#html_6\").jstree().bind(\"select_node.jstree\", function (e, data) {\n",
       "                data.instance.toggle_node(data.node);\n",
       "                var href = data.node.a_attr.href;\n",
       "                document.location.href = href;\n",
       "            });\n",
       "\n",
       "            $(\"#html_7\").jstree().bind(\"select_node.jstree\", function (e, data) {\n",
       "                data.instance.toggle_node(data.node);\n",
       "                var href = data.node.a_attr.href;\n",
       "                document.location.href = href;\n",
       "            });\n",
       "\n",
       "            $(\"#html_8\").jstree().bind(\"select_node.jstree\", function (e, data) {\n",
       "                data.instance.toggle_node(data.node);\n",
       "                var href = data.node.a_attr.href;\n",
       "                document.location.href = href;\n",
       "            });\n",
       "\n",
       "            $(\"#html_9\").jstree().bind(\"select_node.jstree\", function (e, data) {\n",
       "                data.instance.toggle_node(data.node);\n",
       "                var href = data.node.a_attr.href;\n",
       "                document.location.href = href;\n",
       "            });\n",
       "\n",
       "            $(\"#html_10\").jstree().bind(\"select_node.jstree\", function (e, data) {\n",
       "                data.instance.toggle_node(data.node);\n",
       "                var href = data.node.a_attr.href;\n",
       "                document.location.href = href;\n",
       "            });\n",
       "\n",
       "            $(\"#html_11\").jstree().bind(\"select_node.jstree\", function (e, data) {\n",
       "                data.instance.toggle_node(data.node);\n",
       "                var href = data.node.a_attr.href;\n",
       "                document.location.href = href;\n",
       "            });\n",
       "        \n",
       "            $(\"#owl-example\").owlCarousel({\n",
       "                items: 1,\n",
       "                thumbs: true,\n",
       "                nav: false,\n",
       "                dots: false,\n",
       "                loop: true,\n",
       "                autoplay: true,\n",
       "                thumbsPrerendered: true\n",
       "            });\n",
       "\n",
       "            $(\"#events\").on('click', '.switch_btn', function () {\n",
       "                var currentId = this.id.replace(\"event_\", \"\");\n",
       "                var full_desrc = '#full_description_' + currentId;\n",
       "                var desrc = '#description_' + currentId;\n",
       "                $(full_desrc).slideToggle(\"slow\");\n",
       "                //$(desrc).slideToggle(\"slow\");\n",
       "                var btn_text_id = '#event_' + currentId;\n",
       "                var btn_text = $(btn_text_id).html();\n",
       "                if (btn_text == '<div class=\"event_less\">Свернуть</div>') {\n",
       "                    $(btn_text_id).html('<div class=\"event_more\">Подробнее</div>');\n",
       "                }\n",
       "                else {\n",
       "                    $(btn_text_id).html('<div class=\"event_less\">Свернуть</div>');\n",
       "                }\n",
       "            });\n",
       "        });\n",
       "    </script>\n",
       "<style>\n",
       "        .ui-autocomplete-loading {\n",
       "            background: white url(\"images/ui-anim_basic_16x16.gif\") right center no-repeat;\n",
       "        }\n",
       "    </style>\n",
       "<!--\n",
       "  <script type=\"text/javascript\">\n",
       "      $(function () {\n",
       "          $(\"#search_field\").autocomplete({\n",
       "              source: function (request, response) {\n",
       "                  $.ajax({\n",
       "                      url: \"/search/Catalog/GetSearchString\",\n",
       "                      type: \"POST\",\n",
       "                      dataType: \"json\",\n",
       "                      data: {query: request.term, maxResult: 10},\n",
       " \t                  success: function (data) {\n",
       " \t                        response($.map(data, function (item) {\n",
       " \t                            return { label: item.Value, value: item.Value, id: item.TypeId }\n",
       " \t                        }))\n",
       " \t                  }\n",
       "                  });\n",
       "              },\n",
       "              minLength: 3,\n",
       "              select: function( event, ui ) {\n",
       "                if(ui.item)\n",
       "                {\n",
       "                    window.location = 'http://www.biblio-globus.ru/service/catalog/products?query=' + encodeURIComponent(ui.item.value) + '&page=1';\n",
       "                }\n",
       "              }\n",
       "          });\n",
       "      });\n",
       "  </script>\n",
       " -->\n",
       "<table class=\"wrapper\">\n",
       "<tbody><tr>\n",
       "<td class=\"left_column\"><div align=\"center\"><a href=\"http://www.biblio-globus.ru/\" id=\"logo\">\n",
       "<img alt=\"\" src=\"/search/Content/Images/logo.jpg\"/></a></div>\n",
       "<div class=\"column_top_wrapper\">\n",
       "<div class=\"column_top\"></div>\n",
       "</div>\n",
       "</td>\n",
       "<td class=\"top_bg\">\n",
       "<div id=\"header_photo\">\n",
       "</div>\n",
       "<div class=\"top_nav\">\n",
       "<table width=\"100%\">\n",
       "<tbody><tr>\n",
       "<td><a href=\"http://www.biblio-globus.ru/content.aspx?page_id=40\" id=\"shops_button\"></a></td>\n",
       "<td><a href=\"http://www.bgshop.ru/\" id=\"ecommerce_button\" target=\"_blank\"></a></td>\n",
       "<!-- <td><a href=\"http://www.biblio-globus.ru/content.aspx?page_id=5\" id=\"departments_button\"></a></td> \n",
       "\t\t\t\t\t<td><a href=\"http://digest.biblio-globus.ru/\" id=\"digest_button\"></a></td>-->\n",
       "<td><a href=\"http://www.biblio-globus.ru/content.aspx?page_id=14\" id=\"vendors_button\"></a></td>\n",
       "<!-- <td><a href=\"http://www.biblio-globus.ru/content.aspx?page_id=306\" id=\"services_button\"></a></td> -->\n",
       "<td><a href=\"http://www.biblio-globus.ru/content.aspx?page_id=15\" id=\"company_button\"></a></td>\n",
       "</tr>\n",
       "</tbody></table>\n",
       "</div>\n",
       "</td>\n",
       "</tr>\n",
       "<tr>\n",
       "<td class=\"left_column\" valign=\"top\">\n",
       "<table border=\"0\" cellpadding=\"0\" cellspacing=\"0\" id=\"Table2\" width=\"100%\">\n",
       "<tbody><tr>\n",
       "<td align=\"center\" valign=\"top\" width=\"18%\">\n",
       "<br/></td></tr>\n",
       "<tr>\n",
       "<td align=\"center\" valign=\"top\" width=\"18%\">\n",
       "<div class=\"left_nav_divider\"></div>\n",
       "</td></tr>\n",
       "<tr>\n",
       "<td align=\"center\" valign=\"top\" width=\"18%\"><img height=\"1\" src=\"http://www.biblio-globus.ru/img/1px.gif\" width=\"195\"/><br/>\n",
       "<table border=\"0\" cellpadding=\"3\" cellspacing=\"3\" id=\"Table3\" width=\"80%\">\n",
       "<tbody>\n",
       "<tr>\n",
       "<td class=\"zag1\" colspan=\"3\" style=\"color:#3a83bf;\">ИНФОРМАЦИЯ</td></tr>\n",
       "<tr align=\"left\">\n",
       "<td width=\"5%\"><img alt=\"\" height=\"5\" src=\"http://www.biblio-globus.ru/img/strl.gif\" width=\"5\"/></td>\n",
       "<td><a class=\"menu\" href=\"http://www.biblio-globus.ru/content.aspx?page_id=527\">Литературная афиша</a></td></tr>\n",
       "<tr align=\"left\">\n",
       "<td width=\"5%\"><img alt=\"\" height=\"5\" src=\"http://www.biblio-globus.ru/img/strl.gif\" width=\"5\"/></td>\n",
       "<td><a class=\"menu\" href=\"http://www.biblio-globus.ru/content.aspx?page_id=214\">Литературная гостиная им. И.Д. Сытина (клубные встречи)</a></td></tr>\n",
       "<tr align=\"left\">\n",
       "<td width=\"5%\"><img alt=\"\" height=\"5\" src=\"http://www.biblio-globus.ru/img/strl.gif\" width=\"5\"/></td>\n",
       "<td><a class=\"menu\" href=\"http://www.biblio-globus.ru/content.aspx?page_id=552\">Гильдия книжников представляет</a></td></tr>\n",
       "<tr align=\"left\">\n",
       "<td width=\"5%\"><img alt=\"\" height=\"5\" src=\"http://www.biblio-globus.ru/img/strl.gif\" width=\"5\"/></td>\n",
       "<td><a class=\"menu\" href=\"http://www.biblio-globus.ru/content.aspx?page_id=29\">Библио-новости</a></td></tr>\n",
       "<tr align=\"left\">\n",
       "<td width=\"5%\"><img alt=\"\" height=\"5\" src=\"http://www.biblio-globus.ru/img/strl.gif\" width=\"5\"/></td>\n",
       "<td><a class=\"menu\" href=\"http://digest.biblio-globus.ru/\">Книжный дайджест </a></td></tr>\n",
       "<tr align=\"left\">\n",
       "<td width=\"5%\"><img alt=\"\" height=\"5\" src=\"http://www.biblio-globus.ru/img/strl.gif\" width=\"5\"/></td>\n",
       "<td><a class=\"menu\" href=\"http://www.biblio-globus.ru/content.aspx?page_id=513\">Наши гости о нас</a></td></tr>\n",
       "<tr align=\"left\">\n",
       "<td width=\"5%\"><img alt=\"\" height=\"5\" src=\"http://www.biblio-globus.ru/img/strl.gif\" width=\"5\"/></td>\n",
       "<td><a class=\"menu\" href=\"http://www.biblio-globus.ru/content.aspx?page_id=528\">Активация клубной (дисконтной) карты</a> <sup style=\"color:red\">new</sup></td></tr>\n",
       "<tr align=\"left\">\n",
       "<td width=\"5%\"><img alt=\"\" height=\"5\" src=\"http://www.biblio-globus.ru/img/strl.gif\" width=\"5\"/></td>\n",
       "<td><a class=\"menu\" href=\"http://www.biblio-globus.ru/content.aspx?page_id=104\">Подарочная карта</a></td></tr>\n",
       "<tr align=\"left\">\n",
       "<td width=\"5%\"><img alt=\"\" height=\"5\" src=\"http://www.biblio-globus.ru/img/strl.gif\" width=\"5\"/></td>\n",
       "<td><a class=\"menu\" href=\"http://www.biblio-globus.ru/content.aspx?page_id=46\">Личный кабинет</a></td></tr>\n",
       "<tr align=\"left\">\n",
       "<td width=\"5%\"><img alt=\"\" height=\"5\" src=\"http://www.biblio-globus.ru/img/strl.gif\" width=\"5\"/></td>\n",
       "<td><a class=\"menu\" href=\"http://service.biblio-globus.ru/librariancabinet/\" target=\"_blank\">Кабинет юридического лица</a></td></tr>\n",
       "<tr align=\"left\">\n",
       "<td width=\"5%\"><img alt=\"\" height=\"5\" src=\"http://www.biblio-globus.ru/img/strl.gif\" width=\"5\"/></td>\n",
       "<td><a class=\"menu\" href=\"http://www.biblio-globus.ru/content.aspx?page_id=31\">Персональное и корпоративное обслуживание</a></td></tr>\n",
       "<tr>\n",
       "<td width=\"5%\"><img alt=\"\" src=\"/img/strl.gif\"/></td>\n",
       "<td><a class=\"menu\" href=\"/content.aspx?page_id=554\">Ваши мероприятия у нас</a></td></tr>\n",
       "<tr>\n",
       "<td width=\"5%\"><img alt=\"\" src=\"/img/strl.gif\"/></td>\n",
       "<td><a class=\"menu\" href=\"http://www.biblio-globus.ru/career/\">Вакансии</a></td></tr>\n",
       "</tbody>\n",
       "</table>\n",
       "<table border=\"0\" cellpadding=\"0\" cellspacing=\"0\" id=\"Table4\" width=\"100%\">\n",
       "<tbody>\n",
       "<tr align=\"center\">\n",
       "<td>\n",
       "<div class=\"left_nav_divider\"></div>\n",
       "</td>\n",
       "</tr>\n",
       "<tr align=\"center\">\n",
       "<td>\n",
       "<div align=\"left\" style=\"width:170px; margin-left:10px; margin-top:40px;\">\n",
       "<div style=\"width:170px; padding:0; font-family:Tahoma; font-size:11px; text-align:left; height:24px; margin-left:0px; margin-right:0; margin-top:0; margin-bottom:20px\"><img alt=\"\" src=\"http://www.biblio-globus.ru/images/social/social_title.jpg\"/></div>\n",
       "<img alt=\"Библио Глобус\" border=\"0\" src=\"http://www.biblio-globus.ru/images/_today/vk_bgbg.jpg\" style=\"vertical-align:middle; margin:0 10px 0 0;\"/><a class=\"social_vkontakte\" href=\"http://vk.com/biblioglobus_msk\" target=\"_blank\"> \n",
       "\t\tмы в Вконтакте</a>\n",
       "<a class=\"social_facebook\" href=\"http://www.facebook.com/biblio.globus/\" target=\"_blank\"> \n",
       "\t\tмы в Facebook</a>\n",
       "<a class=\"social_twitter\" href=\"http://twitter.com/Biblio_Globus/\" target=\"_blank\"> \n",
       "\t\tмы в Twitter</a>\n",
       "<a class=\"social_inst\" href=\"https://instagram.com/biblio.globus/\" target=\"_blank\"> \n",
       "\t\tмы в Instagram</a>\n",
       "<a class=\"social_ok\" href=\"https://ok.ru/group/55673286951161\" target=\"_blank\">мы в Одноклассниках</a>\n",
       "<a class=\"social_you\" href=\"http://www.youtube.com/user/BiblioGlobusStore/\" target=\"_blank\"> \n",
       "\t\tмы в YouTube</a>\n",
       "</div>\n",
       "<br/><br/><a href=\"http://www.biblio-globus.ru/content.aspx?page_id=328\" style=\"width:170px; text-align:left; height:24px;  margin-top:30px;\"><img alt=\"\" border=\"0\" src=\"http://www.biblio-globus.ru/images/nashi_nagr.jpg\"/></a>\n",
       "<div style=\"width:170px; padding:0; margin:15px 0 20px 0px; font-family:Tahoma; font-size:11px; text-align:left;\">\n",
       "<img alt=\"\" src=\"http://www.biblio-globus.ru/images/1_16042010.jpg\" style=\"border:2px solid #ccc; margin-bottom:3px;\"/><br/>\n",
       "<b>Благодарность Президента РФ</b> за большой вклад в развитие \n",
       "\t\t\tотечественной книжной торговли и активную культурно-просветительскую \n",
       "\t\t\tдеятельность.\n",
       "\t\t</div>\n",
       "<div style=\"width:174px; padding:0; font-family:Tahoma; font-size:11px; text-align:left; height:316px; margin-left:0px; margin-right:0; margin-top:0; margin-bottom:20px\">\n",
       "<img alt=\"\" src=\"http://www.biblio-globus.ru/images/_today/Record28122011.jpg\" style=\"border:2px solid #ccc; margin-bottom:3px;\"/><br/>\n",
       "          Внесен в Российскую <b>«Книгу рекордов и достижений»</b> в номинации \n",
       "\t\t\t«Самое большое количество издательской продукции, проданное в \n",
       "\t\t\tрозницу за один день»<br/><br/>\n",
       "<a href=\"http://www.biblio-globus.ru/content.aspx?page_id=328\">Посмотреть все награды &gt;&gt;</a>\n",
       "</div>\n",
       "</td>\n",
       "</tr></tbody></table><br/>\n",
       "</td>\n",
       "</tr></tbody></table>\n",
       "<div class=\"decor2_wrapper\">\n",
       "<div class=\"decor2\"></div>\n",
       "</div>\n",
       "</td>\n",
       "<td class=\"column_right\" valign=\"top\">\n",
       "<div class=\"content\">\n",
       "<div id=\"main_wrapper\">\n",
       "<!-- Поиск по сайту -->\n",
       "<div class=\"header_1\">Поиск в книжном магазине «Библио-Глобус»</div>\n",
       "<form action=\"/search/Catalog/Products\" method=\"post\" name=\"\">\n",
       "<table cellpadding=\"0\" cellspacing=\"0\" width=\"100%\">\n",
       "<tbody><tr>\n",
       "<td><input id=\"search_field\" name=\"query\" type=\"text\" value=\"Python\"/></td>\n",
       "<td align=\"right\" width=\"63\"><input id=\"search_button\" type=\"submit\" value=\"\"/></td>\n",
       "</tr>\n",
       "</tbody></table>\n",
       "</form>\n",
       "<div class=\"header_1_2\">Результаты поиска</div>\n",
       "<div class=\"info\">Вы искали: «<b>Python</b>»<br/> \n",
       "    Найдено наименований: <b>164</b></div>\n",
       "<table cellpadding=\"0\" cellspacing=\"0\" width=\"100%\">\n",
       "<tbody><tr>\n",
       "<td valign=\"top\" width=\"100\">\n",
       "<div class=\"type\">Книга</div>\n",
       "<a class=\"preview_image\" href=\"/search/catalog/details/10846601\">\n",
       "<div class=\"new\">Новинка</div>\n",
       "<img alt=\"\" src=\"http://static.biblio-globus.ru/images/ImageHandler.ashx?fileName=10846601.jpg&amp;width=80\"/>\n",
       "</a>\n",
       "</td>\n",
       "<td valign=\"top\">\n",
       "<div class=\"details_1\">\n",
       "<div class=\"author\">А. Мюллер, С. Гвидо</div>\n",
       "<a class=\"name\" href=\"/search/catalog/details/10846601\">Машинное обучение с помощью Python. Руководство для специалистов по работе с данными</a>\n",
       "<div class=\"title_data green\">\n",
       "                        В наличии\n",
       "                    </div>\n",
       "<div class=\"placement\"><b>Расположение в торговом зале:</b> <br/>Уровень 1, зал № 07, секция 08, шкаф 85, полка 04</div>\n",
       "<div class=\"title_data price\">Цена: <span>3519,00</span> руб.</div>\n",
       "</div>\n",
       "</td>\n",
       "<td valign=\"top\" width=\"270\">\n",
       "<a class=\"place\" href=\"http://www.biblio-globus.ru/content.aspx?page_id=103\" target=\"_blank\">Посмотреть место в зале</a>\n",
       "<a class=\"im\" href=\"https://www.bgshop.ru/catalog/getfulldescription?id=10846601\" target=\"_blank\">Заказать в интернет-магазине</a>\n",
       "</td>\n",
       "</tr>\n",
       "<tr>\n",
       "<td colspan=\"3\">\n",
       "<div class=\"divider\"></div>\n",
       "</td>\n",
       "</tr>\n",
       "<tr>\n",
       "<td valign=\"top\" width=\"100\">\n",
       "<div class=\"type\">Книга</div>\n",
       "<a class=\"preview_image\" href=\"/search/catalog/details/10852290\">\n",
       "<div class=\"new\">Новинка</div>\n",
       "<img alt=\"\" src=\"http://static.biblio-globus.ru/images/ImageHandler.ashx?fileName=10852290.jpg&amp;width=80\"/>\n",
       "</a>\n",
       "</td>\n",
       "<td valign=\"top\">\n",
       "<div class=\"details_1\">\n",
       "<div class=\"author\">Н. М. Ершов</div>\n",
       "<a class=\"name\" href=\"/search/catalog/details/10852290\">Практическое введение в решение дифференциальных уравнений в Python</a>\n",
       "<div class=\"title_data green\">\n",
       "                        В наличии\n",
       "                    </div>\n",
       "<div class=\"placement\"><b>Расположение в торговом зале:</b> <br/>Уровень 1, зал № 07, секция 08, шкаф 76, полка 05</div>\n",
       "<div class=\"title_data price\">Цена: <span>2619,00</span> руб.</div>\n",
       "</div>\n",
       "</td>\n",
       "<td valign=\"top\" width=\"270\">\n",
       "<a class=\"place\" href=\"http://www.biblio-globus.ru/content.aspx?page_id=103\" target=\"_blank\">Посмотреть место в зале</a>\n",
       "<a class=\"im\" href=\"https://www.bgshop.ru/catalog/getfulldescription?id=10852290\" target=\"_blank\">Заказать в интернет-магазине</a>\n",
       "</td>\n",
       "</tr>\n",
       "<tr>\n",
       "<td colspan=\"3\">\n",
       "<div class=\"divider\"></div>\n",
       "</td>\n",
       "</tr>\n",
       "<tr>\n",
       "<td valign=\"top\" width=\"100\">\n",
       "<div class=\"type\">Книга</div>\n",
       "<a class=\"preview_image\" href=\"/search/catalog/details/10736311\">\n",
       "<div class=\"bestseller\">Лидер продаж</div>\n",
       "<img alt=\"\" src=\"http://static.biblio-globus.ru/images/ImageHandler.ashx?fileName=10736311.jpg&amp;width=80\"/>\n",
       "</a>\n",
       "</td>\n",
       "<td valign=\"top\">\n",
       "<div class=\"details_1\">\n",
       "<div class=\"author\">Б. Любанович</div>\n",
       "<a class=\"name\" href=\"/search/catalog/details/10736311\">Простой Python. Современный стиль программирования</a>\n",
       "<div class=\"title_data green\">\n",
       "                        В наличии\n",
       "                    </div>\n",
       "<div class=\"placement\"><b>Расположение в торговом зале:</b> <br/>Уровень 1, зал № 07, секция 08, шкаф 76, полка 03</div>\n",
       "<div class=\"title_data price\">Цена: <span>2019,00</span> руб.</div>\n",
       "</div>\n",
       "</td>\n",
       "<td valign=\"top\" width=\"270\">\n",
       "<a class=\"place\" href=\"http://www.biblio-globus.ru/content.aspx?page_id=103\" target=\"_blank\">Посмотреть место в зале</a>\n",
       "<a class=\"im\" href=\"https://www.bgshop.ru/catalog/getfulldescription?id=10736311\" target=\"_blank\">Заказать в интернет-магазине</a>\n",
       "</td>\n",
       "</tr>\n",
       "<tr>\n",
       "<td colspan=\"3\">\n",
       "<div class=\"divider\"></div>\n",
       "</td>\n",
       "</tr>\n",
       "<tr>\n",
       "<td valign=\"top\" width=\"100\">\n",
       "<div class=\"type\">Книга</div>\n",
       "<a class=\"preview_image\" href=\"/search/catalog/details/10597875\">\n",
       "<div class=\"bestseller\">Лидер продаж</div>\n",
       "<img alt=\"\" src=\"http://static.biblio-globus.ru/images/ImageHandler.ashx?fileName=10597875.jpg&amp;width=80\"/>\n",
       "</a>\n",
       "</td>\n",
       "<td valign=\"top\">\n",
       "<div class=\"details_1\">\n",
       "<div class=\"author\">М.  Лутц</div>\n",
       "<a class=\"name\" href=\"/search/catalog/details/10597875\">Изучаем Python, том 1</a>\n",
       "<div class=\"title_data green\">\n",
       "                        В наличии\n",
       "                    </div>\n",
       "<div class=\"placement\"><b>Расположение в торговом зале:</b> <br/>Уровень 1, зал № 07, секция 08, шкаф 76, полка 01</div>\n",
       "<div class=\"title_data price\">Цена: <span>4459,00</span> руб.</div>\n",
       "</div>\n",
       "</td>\n",
       "<td valign=\"top\" width=\"270\">\n",
       "<a class=\"place\" href=\"http://www.biblio-globus.ru/content.aspx?page_id=103\" target=\"_blank\">Посмотреть место в зале</a>\n",
       "<a class=\"im\" href=\"https://www.bgshop.ru/catalog/getfulldescription?id=10597875\" target=\"_blank\">Заказать в интернет-магазине</a>\n",
       "</td>\n",
       "</tr>\n",
       "<tr>\n",
       "<td colspan=\"3\">\n",
       "<div class=\"divider\"></div>\n",
       "</td>\n",
       "</tr>\n",
       "<tr>\n",
       "<td valign=\"top\" width=\"100\">\n",
       "<div class=\"type\">Книга</div>\n",
       "<a class=\"preview_image\" href=\"/search/catalog/details/10569801\">\n",
       "<div class=\"bestseller\">Лидер продаж</div>\n",
       "<img alt=\"\" src=\"http://static.biblio-globus.ru/images/ImageHandler.ashx?fileName=10569801.jpg&amp;width=80\"/>\n",
       "</a>\n",
       "</td>\n",
       "<td valign=\"top\">\n",
       "<div class=\"details_1\">\n",
       "<div class=\"author\">М. Доусон</div>\n",
       "<a class=\"name\" href=\"/search/catalog/details/10569801\">Программируем на Python</a>\n",
       "<div class=\"title_data green\">\n",
       "                        В наличии\n",
       "                    </div>\n",
       "<div class=\"placement\"><b>Расположение в торговом зале:</b> <br/>Уровень 1, зал № 07, секция 08, шкаф 76, полка 04</div>\n",
       "<div class=\"title_data price\">Цена: <span>1359,00</span> руб.</div>\n",
       "</div>\n",
       "</td>\n",
       "<td valign=\"top\" width=\"270\">\n",
       "<a class=\"place\" href=\"http://www.biblio-globus.ru/content.aspx?page_id=103\" target=\"_blank\">Посмотреть место в зале</a>\n",
       "<a class=\"im\" href=\"https://www.bgshop.ru/catalog/getfulldescription?id=10569801\" target=\"_blank\">Заказать в интернет-магазине</a>\n",
       "</td>\n",
       "</tr>\n",
       "<tr>\n",
       "<td colspan=\"3\">\n",
       "<div class=\"divider\"></div>\n",
       "</td>\n",
       "</tr>\n",
       "<tr>\n",
       "<td valign=\"top\" width=\"100\">\n",
       "<div class=\"type\">Книга</div>\n",
       "<a class=\"preview_image\" href=\"/search/catalog/details/10831877\">\n",
       "<div class=\"bestseller\">Лидер продаж</div>\n",
       "<img alt=\"\" src=\"http://static.biblio-globus.ru/images/ImageHandler.ashx?fileName=10831877.jpg&amp;width=80\"/>\n",
       "</a>\n",
       "</td>\n",
       "<td valign=\"top\">\n",
       "<div class=\"details_1\">\n",
       "<div class=\"author\">Э. Свейгарт</div>\n",
       "<a class=\"name\" href=\"/search/catalog/details/10831877\">Большая книга проектов Python</a>\n",
       "<div class=\"title_data green\">\n",
       "                        В наличии\n",
       "                    </div>\n",
       "<div class=\"placement\"><b>Расположение в торговом зале:</b> <br/>Уровень 1, зал № 07, секция 08, шкаф 76, полка 06</div>\n",
       "<div class=\"title_data price\">Цена: <span>1669,00</span> руб.</div>\n",
       "</div>\n",
       "</td>\n",
       "<td valign=\"top\" width=\"270\">\n",
       "<a class=\"place\" href=\"http://www.biblio-globus.ru/content.aspx?page_id=103\" target=\"_blank\">Посмотреть место в зале</a>\n",
       "<a class=\"im\" href=\"https://www.bgshop.ru/catalog/getfulldescription?id=10831877\" target=\"_blank\">Заказать в интернет-магазине</a>\n",
       "</td>\n",
       "</tr>\n",
       "<tr>\n",
       "<td colspan=\"3\">\n",
       "<div class=\"divider\"></div>\n",
       "</td>\n",
       "</tr>\n",
       "<tr>\n",
       "<td valign=\"top\" width=\"100\">\n",
       "<div class=\"type\">Книга</div>\n",
       "<a class=\"preview_image\" href=\"/search/catalog/details/10816233\">\n",
       "<div class=\"bestseller\">Лидер продаж</div>\n",
       "<img alt=\"\" src=\"http://static.biblio-globus.ru/images/ImageHandler.ashx?fileName=10816233.jpg&amp;width=80\"/>\n",
       "</a>\n",
       "</td>\n",
       "<td valign=\"top\">\n",
       "<div class=\"details_1\">\n",
       "<div class=\"author\">К. Майер</div>\n",
       "<a class=\"name\" href=\"/search/catalog/details/10816233\">Однострочники Python: лаконичный и содержательный код</a>\n",
       "<div class=\"title_data green\">\n",
       "                        В наличии\n",
       "                    </div>\n",
       "<div class=\"placement\"><b>Расположение в торговом зале:</b> <br/>Уровень 1, зал № 07, секция 08, шкаф 76, полка 06</div>\n",
       "<div class=\"title_data price\">Цена: <span>1669,00</span> руб.</div>\n",
       "</div>\n",
       "</td>\n",
       "<td valign=\"top\" width=\"270\">\n",
       "<a class=\"place\" href=\"http://www.biblio-globus.ru/content.aspx?page_id=103\" target=\"_blank\">Посмотреть место в зале</a>\n",
       "<a class=\"im\" href=\"https://www.bgshop.ru/catalog/getfulldescription?id=10816233\" target=\"_blank\">Заказать в интернет-магазине</a>\n",
       "</td>\n",
       "</tr>\n",
       "<tr>\n",
       "<td colspan=\"3\">\n",
       "<div class=\"divider\"></div>\n",
       "</td>\n",
       "</tr>\n",
       "<tr>\n",
       "<td valign=\"top\" width=\"100\">\n",
       "<div class=\"type\">Книга</div>\n",
       "<a class=\"preview_image\" href=\"/search/catalog/details/10632642\">\n",
       "<div class=\"bestseller\">Лидер продаж</div>\n",
       "<img alt=\"\" src=\"http://static.biblio-globus.ru/images/ImageHandler.ashx?fileName=10632642.jpg&amp;width=80\"/>\n",
       "</a>\n",
       "</td>\n",
       "<td valign=\"top\">\n",
       "<div class=\"details_1\">\n",
       "<div class=\"author\">М.Лутц</div>\n",
       "<a class=\"name\" href=\"/search/catalog/details/10632642\">Изучаем Python, том 2,</a>\n",
       "<div class=\"title_data green\">\n",
       "                        В наличии\n",
       "                    </div>\n",
       "<div class=\"placement\"><b>Расположение в торговом зале:</b> <br/>Уровень 1, зал № 07, секция 08, шкаф 76, полка 01</div>\n",
       "<div class=\"title_data price\">Цена: <span>4459,00</span> руб.</div>\n",
       "</div>\n",
       "</td>\n",
       "<td valign=\"top\" width=\"270\">\n",
       "<a class=\"place\" href=\"http://www.biblio-globus.ru/content.aspx?page_id=103\" target=\"_blank\">Посмотреть место в зале</a>\n",
       "<a class=\"im\" href=\"https://www.bgshop.ru/catalog/getfulldescription?id=10632642\" target=\"_blank\">Заказать в интернет-магазине</a>\n",
       "</td>\n",
       "</tr>\n",
       "<tr>\n",
       "<td colspan=\"3\">\n",
       "<div class=\"divider\"></div>\n",
       "</td>\n",
       "</tr>\n",
       "<tr>\n",
       "<td valign=\"top\" width=\"100\">\n",
       "<div class=\"type\">Книга</div>\n",
       "<a class=\"preview_image\" href=\"/search/catalog/details/10532193\">\n",
       "<div class=\"bestseller\">Лидер продаж</div>\n",
       "<img alt=\"\" src=\"http://static.biblio-globus.ru/images/ImageHandler.ashx?fileName=10532193.jpg&amp;width=80\"/>\n",
       "</a>\n",
       "</td>\n",
       "<td valign=\"top\">\n",
       "<div class=\"details_1\">\n",
       "<div class=\"author\">Н. Седер</div>\n",
       "<a class=\"name\" href=\"/search/catalog/details/10532193\">Python. Экспресс-курс</a>\n",
       "<div class=\"title_data green\">\n",
       "                        В наличии\n",
       "                    </div>\n",
       "<div class=\"placement\"><b>Расположение в торговом зале:</b> <br/>Уровень 1, зал № 07, секция 08, шкаф 76, полка 03</div>\n",
       "<div class=\"title_data price\">Цена: <span>1669,00</span> руб.</div>\n",
       "</div>\n",
       "</td>\n",
       "<td valign=\"top\" width=\"270\">\n",
       "<a class=\"place\" href=\"http://www.biblio-globus.ru/content.aspx?page_id=103\" target=\"_blank\">Посмотреть место в зале</a>\n",
       "<a class=\"im\" href=\"https://www.bgshop.ru/catalog/getfulldescription?id=10532193\" target=\"_blank\">Заказать в интернет-магазине</a>\n",
       "</td>\n",
       "</tr>\n",
       "<tr>\n",
       "<td colspan=\"3\">\n",
       "<div class=\"divider\"></div>\n",
       "</td>\n",
       "</tr>\n",
       "<tr>\n",
       "<td valign=\"top\" width=\"100\">\n",
       "<div class=\"type\">Книга</div>\n",
       "<a class=\"preview_image\" href=\"/search/catalog/details/10410028\">\n",
       "<div class=\"bestseller\">Лидер продаж</div>\n",
       "<img alt=\"\" src=\"http://static.biblio-globus.ru/images/ImageHandler.ashx?fileName=10410028.jpg&amp;width=80\"/>\n",
       "</a>\n",
       "</td>\n",
       "<td valign=\"top\">\n",
       "<div class=\"details_1\">\n",
       "<div class=\"author\">П. Бэрри</div>\n",
       "<a class=\"name\" href=\"/search/catalog/details/10410028\">Изучаем программирование на Python</a>\n",
       "<div class=\"title_data green\">\n",
       "                        В наличии\n",
       "                    </div>\n",
       "<div class=\"placement\"><b>Расположение в торговом зале:</b> <br/>Уровень 1, зал № 07, секция 08, шкаф 76, полка 01</div>\n",
       "<div class=\"title_data price\">Цена: <span>1859,00</span> руб.</div>\n",
       "</div>\n",
       "</td>\n",
       "<td valign=\"top\" width=\"270\">\n",
       "<a class=\"place\" href=\"http://www.biblio-globus.ru/content.aspx?page_id=103\" target=\"_blank\">Посмотреть место в зале</a>\n",
       "<a class=\"im\" href=\"https://www.bgshop.ru/catalog/getfulldescription?id=10410028\" target=\"_blank\">Заказать в интернет-магазине</a>\n",
       "</td>\n",
       "</tr>\n",
       "<tr>\n",
       "<td colspan=\"3\">\n",
       "<div class=\"divider\"></div>\n",
       "</td>\n",
       "</tr>\n",
       "</tbody></table>\n",
       "<ul class=\"pagination\"><div class=\"current_page\">1<span class=\"left_corner\"></span></div><a class=\"page\" href=\"products?query=Python&amp;page=2\">2<span class=\"left_corner\"></span></a><a class=\"page\" href=\"products?query=Python&amp;page=3\">3<span class=\"left_corner\"></span></a><a class=\"next_page\" href=\"products?query=Python&amp;page=2\">Следующая</a><a class=\"next_page\" href=\"products?query=Python&amp;page=17\">Последняя</a> </ul>\n",
       "</div>\n",
       "<div class=\"clearer\"></div>\n",
       "</div>\n",
       "</td>\n",
       "</tr>\n",
       "<tr>\n",
       "<!-- footer -->\n",
       "<td colspan=\"2\">\n",
       "<table class=\"footer\">\n",
       "<tbody><tr>\n",
       "<td valign=\"top\" width=\"217\">\n",
       " \n",
       "                </td>\n",
       "<td valign=\"top\">\n",
       "<div class=\"footer_part_1\">\n",
       "                        2022 OOO Торговый Дом «БИБЛИО-ГЛОБУС»\n",
       "                        <br/><br/>\n",
       "                        телефон: (495) 781-1900<br/>\n",
       "                        e-mail: <a href=\"mailto:web.logist@bgshop.ru\">mail@biblio-globus.ru</a>\n",
       "<br/><br/>\n",
       "                        Адрес: Мясницкая ул., д. 6/3, стр. 1.<br/>\n",
       "                        Проезд до станций метро: \"Лубянка\",<br/>\n",
       "                        \"Кузнецкий мост\", \"Китай-город\".\n",
       "                        <br/><br/>\n",
       "<!-- <a href=\"http://www.biblio-globus.ru/content.aspx?page_id=40\">карта проезда</a> -->\n",
       "</div>\n",
       "</td>\n",
       "<td valign=\"top\">\n",
       "<div class=\"footer_part_2\">\n",
       "                        Часы работы:\n",
       "                        <br/><br/>\n",
       "                        Будни: 9.00 - 21.00<br/>\n",
       "                        Выходные: 10.00 - 21.00<br/>\n",
       "                        Без перерыва.\n",
       "                        <br/><br/>\n",
       "<a href=\"http://www.biblio-globus.ru/content.aspx?page_id=103\">карта магазина</a>\n",
       "</div>\n",
       "</td>\n",
       "<td valign=\"top\">\n",
       "<div class=\"footer_part_3\">\n",
       "                        Справки о наличии книг:\n",
       "                        <br/><br/>\n",
       "                        7 (495) 781-19-00<br/>\n",
       "                        7 (495) 624-46-80<br/>\n",
       "<br/><br/>\n",
       "                        Интернет-магазин:<br/>\n",
       "<a href=\"http://www.bgshop.ru/\" target=\"_blank\">www.bgshop.ru</a><br/>\n",
       "<!--\n",
       "\t\t\t\t\t\tПрием заказов на курьерскую доставку и самовывоз<br />\n",
       "\t\t\t\t\t\tС 10.00-19.00<br />\n",
       "\t\t\t\t\t\tтелефон Call-центра интернет-магазина:<br />(495)&nbsp;781-19-12&nbsp;доб.&nbsp;(2307;&nbsp;2348)\n",
       "\t\t\t\t\t\t-->\n",
       "</div>\n",
       "</td>\n",
       "</tr>\n",
       "</tbody></table>\n",
       "</td>\n",
       "<!-- footer -->\n",
       "</tr>\n",
       "</tbody></table>\n",
       "</body></html>"
      ]
     },
     "execution_count": 15,
     "metadata": {},
     "output_type": "execute_result"
    }
   ],
   "source": [
    "soup1"
   ]
  },
  {
   "cell_type": "markdown",
   "metadata": {},
   "source": [
    "Найдем все названия книг на этой странице. По исходному коду можно увидеть, что они имеют тэг `a` с атрибутом `class`, равным `name`:"
   ]
  },
  {
   "cell_type": "code",
   "execution_count": 16,
   "metadata": {},
   "outputs": [
    {
     "data": {
      "text/plain": [
       "[<a class=\"name\" href=\"/search/catalog/details/10846601\">Машинное обучение с помощью Python. Руководство для специалистов по работе с данными</a>,\n",
       " <a class=\"name\" href=\"/search/catalog/details/10852290\">Практическое введение в решение дифференциальных уравнений в Python</a>,\n",
       " <a class=\"name\" href=\"/search/catalog/details/10736311\">Простой Python. Современный стиль программирования</a>,\n",
       " <a class=\"name\" href=\"/search/catalog/details/10597875\">Изучаем Python, том 1</a>,\n",
       " <a class=\"name\" href=\"/search/catalog/details/10569801\">Программируем на Python</a>,\n",
       " <a class=\"name\" href=\"/search/catalog/details/10831877\">Большая книга проектов Python</a>,\n",
       " <a class=\"name\" href=\"/search/catalog/details/10816233\">Однострочники Python: лаконичный и содержательный код</a>,\n",
       " <a class=\"name\" href=\"/search/catalog/details/10632642\">Изучаем Python, том 2,</a>,\n",
       " <a class=\"name\" href=\"/search/catalog/details/10532193\">Python. Экспресс-курс</a>,\n",
       " <a class=\"name\" href=\"/search/catalog/details/10410028\">Изучаем программирование на Python</a>]"
      ]
     },
     "execution_count": 16,
     "metadata": {},
     "output_type": "execute_result"
    }
   ],
   "source": [
    "soup1.find_all('a', {'class':'name'})"
   ]
  },
  {
   "cell_type": "markdown",
   "metadata": {},
   "source": [
    "С помощью списковых включений выберем из ссылок с тэгом `<a>` текст (так мы уже делали, и не раз)."
   ]
  },
  {
   "cell_type": "code",
   "execution_count": 17,
   "metadata": {},
   "outputs": [],
   "source": [
    "books1 = [b.text for b in soup1.find_all('a', {'class':'name'})]"
   ]
  },
  {
   "cell_type": "code",
   "execution_count": 18,
   "metadata": {},
   "outputs": [
    {
     "data": {
      "text/plain": [
       "['Машинное обучение с помощью Python. Руководство для специалистов по работе с данными',\n",
       " 'Практическое введение в решение дифференциальных уравнений в Python',\n",
       " 'Простой Python. Современный стиль программирования',\n",
       " 'Изучаем Python, том 1',\n",
       " 'Программируем на Python',\n",
       " 'Большая книга проектов Python',\n",
       " 'Однострочники Python: лаконичный и содержательный код',\n",
       " 'Изучаем Python, том 2,',\n",
       " 'Python. Экспресс-курс',\n",
       " 'Изучаем программирование на Python']"
      ]
     },
     "execution_count": 18,
     "metadata": {},
     "output_type": "execute_result"
    }
   ],
   "source": [
    "books1"
   ]
  },
  {
   "cell_type": "markdown",
   "metadata": {},
   "source": [
    "Теперь аналогичным образом сгрузим информацию об авторах:"
   ]
  },
  {
   "cell_type": "code",
   "execution_count": 19,
   "metadata": {},
   "outputs": [],
   "source": [
    "authors1 = [a.text for a in soup1.find_all('div', {'class': 'author'})]"
   ]
  },
  {
   "cell_type": "markdown",
   "metadata": {},
   "source": [
    "Сгрузим расположение:"
   ]
  },
  {
   "cell_type": "code",
   "execution_count": 20,
   "metadata": {},
   "outputs": [],
   "source": [
    "place1 = [p.text for p in soup1.find_all('div', {'class':'placement'})]"
   ]
  },
  {
   "cell_type": "code",
   "execution_count": 21,
   "metadata": {},
   "outputs": [
    {
     "data": {
      "text/plain": [
       "['Расположение в торговом зале: Уровень 1, зал № 07, секция 08, шкаф 85, полка 04',\n",
       " 'Расположение в торговом зале: Уровень 1, зал № 07, секция 08, шкаф 76, полка 05',\n",
       " 'Расположение в торговом зале: Уровень 1, зал № 07, секция 08, шкаф 76, полка 03',\n",
       " 'Расположение в торговом зале: Уровень 1, зал № 07, секция 08, шкаф 76, полка 01',\n",
       " 'Расположение в торговом зале: Уровень 1, зал № 07, секция 08, шкаф 76, полка 04',\n",
       " 'Расположение в торговом зале: Уровень 1, зал № 07, секция 08, шкаф 76, полка 06',\n",
       " 'Расположение в торговом зале: Уровень 1, зал № 07, секция 08, шкаф 76, полка 06',\n",
       " 'Расположение в торговом зале: Уровень 1, зал № 07, секция 08, шкаф 76, полка 01',\n",
       " 'Расположение в торговом зале: Уровень 1, зал № 07, секция 08, шкаф 76, полка 03',\n",
       " 'Расположение в торговом зале: Уровень 1, зал № 07, секция 08, шкаф 76, полка 01']"
      ]
     },
     "execution_count": 21,
     "metadata": {},
     "output_type": "execute_result"
    }
   ],
   "source": [
    "place1"
   ]
  },
  {
   "cell_type": "markdown",
   "metadata": {},
   "source": [
    "И, конечно, цену:"
   ]
  },
  {
   "cell_type": "code",
   "execution_count": 22,
   "metadata": {},
   "outputs": [],
   "source": [
    "price1 = [p.text for p in soup1.find_all('div', \n",
    "                                         {'class':'title_data price'})]"
   ]
  },
  {
   "cell_type": "code",
   "execution_count": 23,
   "metadata": {},
   "outputs": [
    {
     "data": {
      "text/plain": [
       "['Цена: 3519,00 руб.',\n",
       " 'Цена: 2619,00 руб.',\n",
       " 'Цена: 2019,00 руб.',\n",
       " 'Цена: 4459,00 руб.',\n",
       " 'Цена: 1359,00 руб.',\n",
       " 'Цена: 1669,00 руб.',\n",
       " 'Цена: 1669,00 руб.',\n",
       " 'Цена: 4459,00 руб.',\n",
       " 'Цена: 1669,00 руб.',\n",
       " 'Цена: 1859,00 руб.']"
      ]
     },
     "execution_count": 23,
     "metadata": {},
     "output_type": "execute_result"
    }
   ],
   "source": [
    "price1"
   ]
  },
  {
   "cell_type": "markdown",
   "metadata": {},
   "source": [
    "Осталось пройтись по всем страницам, которые были выданы в результате поиска. Для примера перейдем на страницу 2 и на этом остановимся."
   ]
  },
  {
   "cell_type": "code",
   "execution_count": 24,
   "metadata": {},
   "outputs": [
    {
     "name": "stderr",
     "output_type": "stream",
     "text": [
      "C:\\Users\\meale\\AppData\\Local\\Temp/ipykernel_43236/1510570414.py:1: DeprecationWarning: find_element_by_css_selector is deprecated. Please use find_element(by=By.CSS_SELECTOR, value=css_selector) instead\n",
      "  next_p = driver.find_element_by_css_selector('.next_page')\n"
     ]
    }
   ],
   "source": [
    "next_p = driver.find_element_by_css_selector('.next_page')"
   ]
  },
  {
   "cell_type": "code",
   "execution_count": 25,
   "metadata": {},
   "outputs": [],
   "source": [
    "next_p.click()"
   ]
  },
  {
   "cell_type": "markdown",
   "metadata": {},
   "source": [
    "Проделаем то же самое, что и с первой страницей. По-хорошему нужно написать функцию, которая будет искать на странице названия книг, их расположение и цену. Но оставим это в качестве задания читателю :)"
   ]
  },
  {
   "cell_type": "code",
   "execution_count": 26,
   "metadata": {},
   "outputs": [],
   "source": [
    "page2 = driver.page_source\n",
    "soup2 = BeautifulSoup(page2, 'lxml')\n",
    "books2 = [b.text for b in soup2.find_all('a', {'class':'name'})]\n",
    "author2 = [a.text for a in soup2.find_all('div', {'class': 'author'})]\n",
    "place2 = [p.text for p in soup2.find_all('div', {'class':'placement'})]\n",
    "price2 = [p.text for p in soup2.find_all('div', {'class':'title_data price'})]"
   ]
  },
  {
   "cell_type": "markdown",
   "metadata": {},
   "source": [
    "Расширим списки результатов с первой страницы данными, полученными со второй страницы, используя метод `.extend()`."
   ]
  },
  {
   "cell_type": "code",
   "execution_count": 27,
   "metadata": {},
   "outputs": [],
   "source": [
    "books1.extend(books2)\n",
    "authors1.extend(books2)\n",
    "place1.extend(place2)\n",
    "price1.extend(price2)"
   ]
  },
  {
   "cell_type": "markdown",
   "metadata": {},
   "source": [
    "Осталось импортировать библиотеку `pandas` и создать датафрейм."
   ]
  },
  {
   "cell_type": "code",
   "execution_count": 28,
   "metadata": {},
   "outputs": [],
   "source": [
    "import pandas as pd"
   ]
  },
  {
   "cell_type": "markdown",
   "metadata": {},
   "source": [
    "Для разнообразия создадим датафрейм не из списка списков, а из словаря. Ключами словаря будут названия столбцов в таблице, а значениями – списки с сохраненной информацией (названия книг, цены и проч.)."
   ]
  },
  {
   "cell_type": "code",
   "execution_count": 29,
   "metadata": {},
   "outputs": [],
   "source": [
    "df = pd.DataFrame({'book': books1, 'author': authors1,\n",
    "                   'placement': place1, 'price': price1})"
   ]
  },
  {
   "cell_type": "code",
   "execution_count": 30,
   "metadata": {},
   "outputs": [
    {
     "data": {
      "text/html": [
       "<div>\n",
       "<style scoped>\n",
       "    .dataframe tbody tr th:only-of-type {\n",
       "        vertical-align: middle;\n",
       "    }\n",
       "\n",
       "    .dataframe tbody tr th {\n",
       "        vertical-align: top;\n",
       "    }\n",
       "\n",
       "    .dataframe thead th {\n",
       "        text-align: right;\n",
       "    }\n",
       "</style>\n",
       "<table border=\"1\" class=\"dataframe\">\n",
       "  <thead>\n",
       "    <tr style=\"text-align: right;\">\n",
       "      <th></th>\n",
       "      <th>book</th>\n",
       "      <th>author</th>\n",
       "      <th>placement</th>\n",
       "      <th>price</th>\n",
       "    </tr>\n",
       "  </thead>\n",
       "  <tbody>\n",
       "    <tr>\n",
       "      <th>0</th>\n",
       "      <td>Машинное обучение с помощью Python. Руководств...</td>\n",
       "      <td>А. Мюллер, С. Гвидо</td>\n",
       "      <td>Расположение в торговом зале: Уровень 1, зал №...</td>\n",
       "      <td>Цена: 3519,00 руб.</td>\n",
       "    </tr>\n",
       "    <tr>\n",
       "      <th>1</th>\n",
       "      <td>Практическое введение в решение дифференциальн...</td>\n",
       "      <td>Н. М. Ершов</td>\n",
       "      <td>Расположение в торговом зале: Уровень 1, зал №...</td>\n",
       "      <td>Цена: 2619,00 руб.</td>\n",
       "    </tr>\n",
       "    <tr>\n",
       "      <th>2</th>\n",
       "      <td>Простой Python. Современный стиль программиров...</td>\n",
       "      <td>Б. Любанович</td>\n",
       "      <td>Расположение в торговом зале: Уровень 1, зал №...</td>\n",
       "      <td>Цена: 2019,00 руб.</td>\n",
       "    </tr>\n",
       "    <tr>\n",
       "      <th>3</th>\n",
       "      <td>Изучаем Python, том 1</td>\n",
       "      <td>М.  Лутц</td>\n",
       "      <td>Расположение в торговом зале: Уровень 1, зал №...</td>\n",
       "      <td>Цена: 4459,00 руб.</td>\n",
       "    </tr>\n",
       "    <tr>\n",
       "      <th>4</th>\n",
       "      <td>Программируем на Python</td>\n",
       "      <td>М. Доусон</td>\n",
       "      <td>Расположение в торговом зале: Уровень 1, зал №...</td>\n",
       "      <td>Цена: 1359,00 руб.</td>\n",
       "    </tr>\n",
       "  </tbody>\n",
       "</table>\n",
       "</div>"
      ],
      "text/plain": [
       "                                                book               author  \\\n",
       "0  Машинное обучение с помощью Python. Руководств...  А. Мюллер, С. Гвидо   \n",
       "1  Практическое введение в решение дифференциальн...          Н. М. Ершов   \n",
       "2  Простой Python. Современный стиль программиров...         Б. Любанович   \n",
       "3                              Изучаем Python, том 1             М.  Лутц   \n",
       "4                            Программируем на Python            М. Доусон   \n",
       "\n",
       "                                           placement               price  \n",
       "0  Расположение в торговом зале: Уровень 1, зал №...  Цена: 3519,00 руб.  \n",
       "1  Расположение в торговом зале: Уровень 1, зал №...  Цена: 2619,00 руб.  \n",
       "2  Расположение в торговом зале: Уровень 1, зал №...  Цена: 2019,00 руб.  \n",
       "3  Расположение в торговом зале: Уровень 1, зал №...  Цена: 4459,00 руб.  \n",
       "4  Расположение в торговом зале: Уровень 1, зал №...  Цена: 1359,00 руб.  "
      ]
     },
     "execution_count": 30,
     "metadata": {},
     "output_type": "execute_result"
    }
   ],
   "source": [
    "df.head()"
   ]
  },
  {
   "cell_type": "markdown",
   "metadata": {},
   "source": [
    "Давайте приведем столбец с ценой к числовому типу. Уберем слова *Цена* и *руб*, а потом сконвертируем строки в числа с плавающей точкой. Напишем функцию `get_price()`,"
   ]
  },
  {
   "cell_type": "code",
   "execution_count": 31,
   "metadata": {},
   "outputs": [],
   "source": [
    "def get_price(price):\n",
    "    book_price = price.split(' ')[1]  # разобьем строку по пробелу и возьмем второй элемент\n",
    "    book_price = book_price.replace(',', '.')  # заменим запятую на точку\n",
    "    price_num = float(book_price)  # сконвертируем в float\n",
    "    return price_num"
   ]
  },
  {
   "cell_type": "code",
   "execution_count": 32,
   "metadata": {},
   "outputs": [],
   "source": [
    "import re\n",
    "def preis(x):\n",
    "    return float('.'.join(re.findall(r'\\d+',x)))"
   ]
  },
  {
   "cell_type": "code",
   "execution_count": 33,
   "metadata": {},
   "outputs": [
    {
     "data": {
      "text/plain": [
       "3519.0"
      ]
     },
     "execution_count": 33,
     "metadata": {},
     "output_type": "execute_result"
    }
   ],
   "source": [
    "# проверка\n",
    "get_price(df.price[0])"
   ]
  },
  {
   "cell_type": "code",
   "execution_count": 34,
   "metadata": {},
   "outputs": [
    {
     "data": {
      "text/plain": [
       "3519.0"
      ]
     },
     "execution_count": 34,
     "metadata": {},
     "output_type": "execute_result"
    }
   ],
   "source": [
    "preis(df.price[0])"
   ]
  },
  {
   "cell_type": "markdown",
   "metadata": {},
   "source": [
    "Всё отлично работает! Применим функцию к столбцу *price* и создадим новый столбец *nprice*."
   ]
  },
  {
   "cell_type": "code",
   "execution_count": 35,
   "metadata": {},
   "outputs": [],
   "source": [
    "df['nprice'] = df.price.apply(preis)"
   ]
  },
  {
   "cell_type": "code",
   "execution_count": 36,
   "metadata": {},
   "outputs": [
    {
     "data": {
      "text/html": [
       "<div>\n",
       "<style scoped>\n",
       "    .dataframe tbody tr th:only-of-type {\n",
       "        vertical-align: middle;\n",
       "    }\n",
       "\n",
       "    .dataframe tbody tr th {\n",
       "        vertical-align: top;\n",
       "    }\n",
       "\n",
       "    .dataframe thead th {\n",
       "        text-align: right;\n",
       "    }\n",
       "</style>\n",
       "<table border=\"1\" class=\"dataframe\">\n",
       "  <thead>\n",
       "    <tr style=\"text-align: right;\">\n",
       "      <th></th>\n",
       "      <th>book</th>\n",
       "      <th>author</th>\n",
       "      <th>placement</th>\n",
       "      <th>price</th>\n",
       "      <th>nprice</th>\n",
       "    </tr>\n",
       "  </thead>\n",
       "  <tbody>\n",
       "    <tr>\n",
       "      <th>0</th>\n",
       "      <td>Машинное обучение с помощью Python. Руководств...</td>\n",
       "      <td>А. Мюллер, С. Гвидо</td>\n",
       "      <td>Расположение в торговом зале: Уровень 1, зал №...</td>\n",
       "      <td>Цена: 3519,00 руб.</td>\n",
       "      <td>3519.0</td>\n",
       "    </tr>\n",
       "    <tr>\n",
       "      <th>1</th>\n",
       "      <td>Практическое введение в решение дифференциальн...</td>\n",
       "      <td>Н. М. Ершов</td>\n",
       "      <td>Расположение в торговом зале: Уровень 1, зал №...</td>\n",
       "      <td>Цена: 2619,00 руб.</td>\n",
       "      <td>2619.0</td>\n",
       "    </tr>\n",
       "    <tr>\n",
       "      <th>2</th>\n",
       "      <td>Простой Python. Современный стиль программиров...</td>\n",
       "      <td>Б. Любанович</td>\n",
       "      <td>Расположение в торговом зале: Уровень 1, зал №...</td>\n",
       "      <td>Цена: 2019,00 руб.</td>\n",
       "      <td>2019.0</td>\n",
       "    </tr>\n",
       "    <tr>\n",
       "      <th>3</th>\n",
       "      <td>Изучаем Python, том 1</td>\n",
       "      <td>М.  Лутц</td>\n",
       "      <td>Расположение в торговом зале: Уровень 1, зал №...</td>\n",
       "      <td>Цена: 4459,00 руб.</td>\n",
       "      <td>4459.0</td>\n",
       "    </tr>\n",
       "    <tr>\n",
       "      <th>4</th>\n",
       "      <td>Программируем на Python</td>\n",
       "      <td>М. Доусон</td>\n",
       "      <td>Расположение в торговом зале: Уровень 1, зал №...</td>\n",
       "      <td>Цена: 1359,00 руб.</td>\n",
       "      <td>1359.0</td>\n",
       "    </tr>\n",
       "  </tbody>\n",
       "</table>\n",
       "</div>"
      ],
      "text/plain": [
       "                                                book               author  \\\n",
       "0  Машинное обучение с помощью Python. Руководств...  А. Мюллер, С. Гвидо   \n",
       "1  Практическое введение в решение дифференциальн...          Н. М. Ершов   \n",
       "2  Простой Python. Современный стиль программиров...         Б. Любанович   \n",
       "3                              Изучаем Python, том 1             М.  Лутц   \n",
       "4                            Программируем на Python            М. Доусон   \n",
       "\n",
       "                                           placement               price  \\\n",
       "0  Расположение в торговом зале: Уровень 1, зал №...  Цена: 3519,00 руб.   \n",
       "1  Расположение в торговом зале: Уровень 1, зал №...  Цена: 2619,00 руб.   \n",
       "2  Расположение в торговом зале: Уровень 1, зал №...  Цена: 2019,00 руб.   \n",
       "3  Расположение в торговом зале: Уровень 1, зал №...  Цена: 4459,00 руб.   \n",
       "4  Расположение в торговом зале: Уровень 1, зал №...  Цена: 1359,00 руб.   \n",
       "\n",
       "   nprice  \n",
       "0  3519.0  \n",
       "1  2619.0  \n",
       "2  2019.0  \n",
       "3  4459.0  \n",
       "4  1359.0  "
      ]
     },
     "execution_count": 36,
     "metadata": {},
     "output_type": "execute_result"
    }
   ],
   "source": [
    "df.head()"
   ]
  },
  {
   "cell_type": "markdown",
   "metadata": {},
   "source": [
    "Теперь можем расположить книги по цене в порядке возрастания:"
   ]
  },
  {
   "cell_type": "code",
   "execution_count": 37,
   "metadata": {},
   "outputs": [
    {
     "data": {
      "text/html": [
       "<div>\n",
       "<style scoped>\n",
       "    .dataframe tbody tr th:only-of-type {\n",
       "        vertical-align: middle;\n",
       "    }\n",
       "\n",
       "    .dataframe tbody tr th {\n",
       "        vertical-align: top;\n",
       "    }\n",
       "\n",
       "    .dataframe thead th {\n",
       "        text-align: right;\n",
       "    }\n",
       "</style>\n",
       "<table border=\"1\" class=\"dataframe\">\n",
       "  <thead>\n",
       "    <tr style=\"text-align: right;\">\n",
       "      <th></th>\n",
       "      <th>book</th>\n",
       "      <th>author</th>\n",
       "      <th>placement</th>\n",
       "      <th>price</th>\n",
       "      <th>nprice</th>\n",
       "    </tr>\n",
       "  </thead>\n",
       "  <tbody>\n",
       "    <tr>\n",
       "      <th>13</th>\n",
       "      <td>Справочник PYTHON.  Кратко, быстро, под рукой</td>\n",
       "      <td>Справочник PYTHON.  Кратко, быстро, под рукой</td>\n",
       "      <td>Расположение в торговом зале: Уровень 1, зал №...</td>\n",
       "      <td>Цена: 499,00 руб.</td>\n",
       "      <td>499.0</td>\n",
       "    </tr>\n",
       "    <tr>\n",
       "      <th>16</th>\n",
       "      <td>Сумка-шоппер на молнии ErichKrause® 14L Python...</td>\n",
       "      <td>Сумка-шоппер на молнии ErichKrause® 14L Python...</td>\n",
       "      <td>Расположение в торговом зале: Уровень 1, зал №...</td>\n",
       "      <td>Цена: 749,00 руб.</td>\n",
       "      <td>749.0</td>\n",
       "    </tr>\n",
       "    <tr>\n",
       "      <th>10</th>\n",
       "      <td>Python. Полное руководство</td>\n",
       "      <td>Python. Полное руководство</td>\n",
       "      <td>Расположение в торговом зале: Уровень 1, зал №...</td>\n",
       "      <td>Цена: 909,00 руб.</td>\n",
       "      <td>909.0</td>\n",
       "    </tr>\n",
       "    <tr>\n",
       "      <th>19</th>\n",
       "      <td>Python для юных программистов</td>\n",
       "      <td>Python для юных программистов</td>\n",
       "      <td>Расположение в торговом зале: Уровень 1, зал №...</td>\n",
       "      <td>Цена: 1059,00 руб.</td>\n",
       "      <td>1059.0</td>\n",
       "    </tr>\n",
       "    <tr>\n",
       "      <th>12</th>\n",
       "      <td>Python для детей и родителей.</td>\n",
       "      <td>Python для детей и родителей.</td>\n",
       "      <td>Расположение в торговом зале: Уровень 1, зал №...</td>\n",
       "      <td>Цена: 1189,00 руб.</td>\n",
       "      <td>1189.0</td>\n",
       "    </tr>\n",
       "    <tr>\n",
       "      <th>14</th>\n",
       "      <td>Программирование на Python в примерах и задачах</td>\n",
       "      <td>Программирование на Python в примерах и задачах</td>\n",
       "      <td>Расположение в торговом зале: Уровень 1, зал №...</td>\n",
       "      <td>Цена: 1309,00 руб.</td>\n",
       "      <td>1309.0</td>\n",
       "    </tr>\n",
       "    <tr>\n",
       "      <th>4</th>\n",
       "      <td>Программируем на Python</td>\n",
       "      <td>М. Доусон</td>\n",
       "      <td>Расположение в торговом зале: Уровень 1, зал №...</td>\n",
       "      <td>Цена: 1359,00 руб.</td>\n",
       "      <td>1359.0</td>\n",
       "    </tr>\n",
       "    <tr>\n",
       "      <th>15</th>\n",
       "      <td>Изучаем Python: программирование игр, визуализ...</td>\n",
       "      <td>Изучаем Python: программирование игр, визуализ...</td>\n",
       "      <td>Расположение в торговом зале: Уровень 1, зал №...</td>\n",
       "      <td>Цена: 1629,00 руб.</td>\n",
       "      <td>1629.0</td>\n",
       "    </tr>\n",
       "    <tr>\n",
       "      <th>5</th>\n",
       "      <td>Большая книга проектов Python</td>\n",
       "      <td>Э. Свейгарт</td>\n",
       "      <td>Расположение в торговом зале: Уровень 1, зал №...</td>\n",
       "      <td>Цена: 1669,00 руб.</td>\n",
       "      <td>1669.0</td>\n",
       "    </tr>\n",
       "    <tr>\n",
       "      <th>6</th>\n",
       "      <td>Однострочники Python: лаконичный и содержатель...</td>\n",
       "      <td>К. Майер</td>\n",
       "      <td>Расположение в торговом зале: Уровень 1, зал №...</td>\n",
       "      <td>Цена: 1669,00 руб.</td>\n",
       "      <td>1669.0</td>\n",
       "    </tr>\n",
       "    <tr>\n",
       "      <th>8</th>\n",
       "      <td>Python. Экспресс-курс</td>\n",
       "      <td>Н. Седер</td>\n",
       "      <td>Расположение в торговом зале: Уровень 1, зал №...</td>\n",
       "      <td>Цена: 1669,00 руб.</td>\n",
       "      <td>1669.0</td>\n",
       "    </tr>\n",
       "    <tr>\n",
       "      <th>11</th>\n",
       "      <td>Black Hat Python: программирование для хакеров...</td>\n",
       "      <td>Black Hat Python: программирование для хакеров...</td>\n",
       "      <td>Расположение в торговом зале: Уровень 1, зал №...</td>\n",
       "      <td>Цена: 1669,00 руб.</td>\n",
       "      <td>1669.0</td>\n",
       "    </tr>\n",
       "    <tr>\n",
       "      <th>18</th>\n",
       "      <td>Глубокое обучение на Python</td>\n",
       "      <td>Глубокое обучение на Python</td>\n",
       "      <td>Расположение в торговом зале: Уровень 1, зал №...</td>\n",
       "      <td>Цена: 1679,00 руб.</td>\n",
       "      <td>1679.0</td>\n",
       "    </tr>\n",
       "    <tr>\n",
       "      <th>9</th>\n",
       "      <td>Изучаем программирование на Python</td>\n",
       "      <td>П. Бэрри</td>\n",
       "      <td>Расположение в торговом зале: Уровень 1, зал №...</td>\n",
       "      <td>Цена: 1859,00 руб.</td>\n",
       "      <td>1859.0</td>\n",
       "    </tr>\n",
       "    <tr>\n",
       "      <th>2</th>\n",
       "      <td>Простой Python. Современный стиль программиров...</td>\n",
       "      <td>Б. Любанович</td>\n",
       "      <td>Расположение в торговом зале: Уровень 1, зал №...</td>\n",
       "      <td>Цена: 2019,00 руб.</td>\n",
       "      <td>2019.0</td>\n",
       "    </tr>\n",
       "    <tr>\n",
       "      <th>1</th>\n",
       "      <td>Практическое введение в решение дифференциальн...</td>\n",
       "      <td>Н. М. Ершов</td>\n",
       "      <td>Расположение в торговом зале: Уровень 1, зал №...</td>\n",
       "      <td>Цена: 2619,00 руб.</td>\n",
       "      <td>2619.0</td>\n",
       "    </tr>\n",
       "    <tr>\n",
       "      <th>0</th>\n",
       "      <td>Машинное обучение с помощью Python. Руководств...</td>\n",
       "      <td>А. Мюллер, С. Гвидо</td>\n",
       "      <td>Расположение в торговом зале: Уровень 1, зал №...</td>\n",
       "      <td>Цена: 3519,00 руб.</td>\n",
       "      <td>3519.0</td>\n",
       "    </tr>\n",
       "    <tr>\n",
       "      <th>17</th>\n",
       "      <td>Стандартная библиотека Python 3</td>\n",
       "      <td>Стандартная библиотека Python 3</td>\n",
       "      <td>Расположение в торговом зале: Уровень 1, зал №...</td>\n",
       "      <td>Цена: 4109,00 руб.</td>\n",
       "      <td>4109.0</td>\n",
       "    </tr>\n",
       "    <tr>\n",
       "      <th>3</th>\n",
       "      <td>Изучаем Python, том 1</td>\n",
       "      <td>М.  Лутц</td>\n",
       "      <td>Расположение в торговом зале: Уровень 1, зал №...</td>\n",
       "      <td>Цена: 4459,00 руб.</td>\n",
       "      <td>4459.0</td>\n",
       "    </tr>\n",
       "    <tr>\n",
       "      <th>7</th>\n",
       "      <td>Изучаем Python, том 2,</td>\n",
       "      <td>М.Лутц</td>\n",
       "      <td>Расположение в торговом зале: Уровень 1, зал №...</td>\n",
       "      <td>Цена: 4459,00 руб.</td>\n",
       "      <td>4459.0</td>\n",
       "    </tr>\n",
       "  </tbody>\n",
       "</table>\n",
       "</div>"
      ],
      "text/plain": [
       "                                                 book  \\\n",
       "13      Справочник PYTHON.  Кратко, быстро, под рукой   \n",
       "16  Сумка-шоппер на молнии ErichKrause® 14L Python...   \n",
       "10                         Python. Полное руководство   \n",
       "19                      Python для юных программистов   \n",
       "12                      Python для детей и родителей.   \n",
       "14    Программирование на Python в примерах и задачах   \n",
       "4                             Программируем на Python   \n",
       "15  Изучаем Python: программирование игр, визуализ...   \n",
       "5                       Большая книга проектов Python   \n",
       "6   Однострочники Python: лаконичный и содержатель...   \n",
       "8                               Python. Экспресс-курс   \n",
       "11  Black Hat Python: программирование для хакеров...   \n",
       "18                        Глубокое обучение на Python   \n",
       "9                  Изучаем программирование на Python   \n",
       "2   Простой Python. Современный стиль программиров...   \n",
       "1   Практическое введение в решение дифференциальн...   \n",
       "0   Машинное обучение с помощью Python. Руководств...   \n",
       "17                    Стандартная библиотека Python 3   \n",
       "3                               Изучаем Python, том 1   \n",
       "7                              Изучаем Python, том 2,   \n",
       "\n",
       "                                               author  \\\n",
       "13      Справочник PYTHON.  Кратко, быстро, под рукой   \n",
       "16  Сумка-шоппер на молнии ErichKrause® 14L Python...   \n",
       "10                         Python. Полное руководство   \n",
       "19                      Python для юных программистов   \n",
       "12                      Python для детей и родителей.   \n",
       "14    Программирование на Python в примерах и задачах   \n",
       "4                                           М. Доусон   \n",
       "15  Изучаем Python: программирование игр, визуализ...   \n",
       "5                                         Э. Свейгарт   \n",
       "6                                            К. Майер   \n",
       "8                                            Н. Седер   \n",
       "11  Black Hat Python: программирование для хакеров...   \n",
       "18                        Глубокое обучение на Python   \n",
       "9                                            П. Бэрри   \n",
       "2                                        Б. Любанович   \n",
       "1                                         Н. М. Ершов   \n",
       "0                                 А. Мюллер, С. Гвидо   \n",
       "17                    Стандартная библиотека Python 3   \n",
       "3                                            М.  Лутц   \n",
       "7                                              М.Лутц   \n",
       "\n",
       "                                            placement               price  \\\n",
       "13  Расположение в торговом зале: Уровень 1, зал №...   Цена: 499,00 руб.   \n",
       "16  Расположение в торговом зале: Уровень 1, зал №...   Цена: 749,00 руб.   \n",
       "10  Расположение в торговом зале: Уровень 1, зал №...   Цена: 909,00 руб.   \n",
       "19  Расположение в торговом зале: Уровень 1, зал №...  Цена: 1059,00 руб.   \n",
       "12  Расположение в торговом зале: Уровень 1, зал №...  Цена: 1189,00 руб.   \n",
       "14  Расположение в торговом зале: Уровень 1, зал №...  Цена: 1309,00 руб.   \n",
       "4   Расположение в торговом зале: Уровень 1, зал №...  Цена: 1359,00 руб.   \n",
       "15  Расположение в торговом зале: Уровень 1, зал №...  Цена: 1629,00 руб.   \n",
       "5   Расположение в торговом зале: Уровень 1, зал №...  Цена: 1669,00 руб.   \n",
       "6   Расположение в торговом зале: Уровень 1, зал №...  Цена: 1669,00 руб.   \n",
       "8   Расположение в торговом зале: Уровень 1, зал №...  Цена: 1669,00 руб.   \n",
       "11  Расположение в торговом зале: Уровень 1, зал №...  Цена: 1669,00 руб.   \n",
       "18  Расположение в торговом зале: Уровень 1, зал №...  Цена: 1679,00 руб.   \n",
       "9   Расположение в торговом зале: Уровень 1, зал №...  Цена: 1859,00 руб.   \n",
       "2   Расположение в торговом зале: Уровень 1, зал №...  Цена: 2019,00 руб.   \n",
       "1   Расположение в торговом зале: Уровень 1, зал №...  Цена: 2619,00 руб.   \n",
       "0   Расположение в торговом зале: Уровень 1, зал №...  Цена: 3519,00 руб.   \n",
       "17  Расположение в торговом зале: Уровень 1, зал №...  Цена: 4109,00 руб.   \n",
       "3   Расположение в торговом зале: Уровень 1, зал №...  Цена: 4459,00 руб.   \n",
       "7   Расположение в торговом зале: Уровень 1, зал №...  Цена: 4459,00 руб.   \n",
       "\n",
       "    nprice  \n",
       "13   499.0  \n",
       "16   749.0  \n",
       "10   909.0  \n",
       "19  1059.0  \n",
       "12  1189.0  \n",
       "14  1309.0  \n",
       "4   1359.0  \n",
       "15  1629.0  \n",
       "5   1669.0  \n",
       "6   1669.0  \n",
       "8   1669.0  \n",
       "11  1669.0  \n",
       "18  1679.0  \n",
       "9   1859.0  \n",
       "2   2019.0  \n",
       "1   2619.0  \n",
       "0   3519.0  \n",
       "17  4109.0  \n",
       "3   4459.0  \n",
       "7   4459.0  "
      ]
     },
     "execution_count": 37,
     "metadata": {},
     "output_type": "execute_result"
    }
   ],
   "source": [
    "df.sort_values('nprice')"
   ]
  },
  {
   "cell_type": "markdown",
   "metadata": {},
   "source": [
    "И сохраним всю таблицу в csv-файл:"
   ]
  },
  {
   "cell_type": "code",
   "execution_count": 38,
   "metadata": {},
   "outputs": [],
   "source": [
    "df.to_csv(\"books.csv\")"
   ]
  },
  {
   "cell_type": "code",
   "execution_count": null,
   "metadata": {},
   "outputs": [],
   "source": []
  }
 ],
 "metadata": {
  "kernelspec": {
   "display_name": "Python 3 (ipykernel)",
   "language": "python",
   "name": "python3"
  },
  "language_info": {
   "codemirror_mode": {
    "name": "ipython",
    "version": 3
   },
   "file_extension": ".py",
   "mimetype": "text/x-python",
   "name": "python",
   "nbconvert_exporter": "python",
   "pygments_lexer": "ipython3",
   "version": "3.9.7"
  }
 },
 "nbformat": 4,
 "nbformat_minor": 2
}
