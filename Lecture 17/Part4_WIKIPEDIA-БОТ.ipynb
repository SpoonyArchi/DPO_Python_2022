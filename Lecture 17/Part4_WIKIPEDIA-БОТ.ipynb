{
 "cells": [
  {
   "cell_type": "code",
   "execution_count": null,
   "id": "7523685f",
   "metadata": {},
   "outputs": [],
   "source": [
    "import telebot, wikipedia, re"
   ]
  },
  {
   "cell_type": "code",
   "execution_count": null,
   "id": "f3668f1a",
   "metadata": {},
   "outputs": [],
   "source": [
    "bot = telebot.TeleBot('бот')"
   ]
  },
  {
   "cell_type": "code",
   "execution_count": null,
   "id": "5d22dd49",
   "metadata": {},
   "outputs": [],
   "source": [
    "wikipedia.set_lang(\"ru\")"
   ]
  },
  {
   "cell_type": "code",
   "execution_count": null,
   "id": "d1c517d4",
   "metadata": {},
   "outputs": [],
   "source": [
    "def getwiki(s):\n",
    "    try:\n",
    "        ny = wikipedia.page(s)\n",
    "        wikitext=ny.content[:1000]\n",
    "        wikimas=wikitext.split('.')\n",
    "        wikimas = wikimas[:-1]\n",
    "        wikitext2 = ''\n",
    "        for x in wikimas:\n",
    "            if not('==' in x):\n",
    "                if(len((x.strip()))>3):\n",
    "                    wikitext2=wikitext2+x+'.'\n",
    "            else:\n",
    "                break\n",
    "        wikitext2=re.sub('\\([^()]*\\)', '', wikitext2)\n",
    "        wikitext2=re.sub('\\([^()]*\\)', '', wikitext2)\n",
    "        wikitext2=re.sub('\\{[^\\{\\}]*\\}', '', wikitext2)\n",
    "        return wikitext2\n",
    "    except:\n",
    "        return 'В энциклопедии нет информации об этом'\n"
   ]
  },
  {
   "cell_type": "code",
   "execution_count": null,
   "id": "a42cb94c",
   "metadata": {},
   "outputs": [],
   "source": [
    "@bot.message_handler(commands=[\"start\"])\n",
    "def start(m):\n",
    "    bot.send_message(m.chat.id, 'Отправьте мне любое слово, и я найду его значение на Wikipedia')"
   ]
  },
  {
   "cell_type": "code",
   "execution_count": null,
   "id": "7869bd14",
   "metadata": {},
   "outputs": [],
   "source": [
    "@bot.message_handler(content_types=[\"text\"])\n",
    "def handle_text(message):\n",
    "    bot.send_message(message.chat.id, getwiki(message.text))"
   ]
  },
  {
   "cell_type": "code",
   "execution_count": null,
   "id": "19af5b54",
   "metadata": {},
   "outputs": [],
   "source": [
    "bot.polling(none_stop=True, interval=0)"
   ]
  },
  {
   "cell_type": "code",
   "execution_count": null,
   "id": "aadbd73c",
   "metadata": {},
   "outputs": [],
   "source": []
  }
 ],
 "metadata": {
  "kernelspec": {
   "display_name": "Python 3 (ipykernel)",
   "language": "python",
   "name": "python3"
  },
  "language_info": {
   "codemirror_mode": {
    "name": "ipython",
    "version": 3
   },
   "file_extension": ".py",
   "mimetype": "text/x-python",
   "name": "python",
   "nbconvert_exporter": "python",
   "pygments_lexer": "ipython3",
   "version": "3.9.7"
  }
 },
 "nbformat": 4,
 "nbformat_minor": 5
}
