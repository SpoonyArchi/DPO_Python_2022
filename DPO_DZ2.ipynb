{
 "cells": [
  {
   "cell_type": "markdown",
   "id": "2934f3ad",
   "metadata": {},
   "source": [
    "## Домашнее задание 2"
   ]
  },
  {
   "cell_type": "markdown",
   "id": "d8226b3f",
   "metadata": {},
   "source": [
    "### Задача 1\n",
    "\n",
    "Дана строка, состоящая из слов. Сделать из нее аббревиатуру с помощью списковых включений\n",
    "\n",
    "**Вход:** \"Комитет Государственной Безопасности\"\n",
    "\n",
    "**Выход:** \"КГБ\""
   ]
  },
  {
   "cell_type": "code",
   "execution_count": null,
   "id": "2eb951f4",
   "metadata": {},
   "outputs": [],
   "source": [
    "text = \"Комитет Государственной Безопасности\"\n",
    "\n",
    "#Решение"
   ]
  },
  {
   "cell_type": "markdown",
   "id": "68c200c1",
   "metadata": {},
   "source": [
    "### Задача 2\n",
    "\n",
    "На вход принимается число N. \n",
    "\n",
    "Выведите на печать следующий паттерн:\n",
    "\n",
    "1\n",
    "\n",
    "1 2\n",
    "\n",
    "1 2 3\n",
    "\n",
    "1 2 3 4\n",
    "\n",
    "...\n",
    "\n",
    "1 ... N\n",
    "\n",
    "**Это не так просто)**"
   ]
  },
  {
   "cell_type": "code",
   "execution_count": null,
   "id": "0bb1a360",
   "metadata": {},
   "outputs": [],
   "source": [
    "#Решение"
   ]
  },
  {
   "cell_type": "markdown",
   "id": "9590f8e6",
   "metadata": {},
   "source": [
    "### Задача 3\n",
    "\n",
    "Дана строка. Замените в ней все буквы А на # с помощью спискового включения."
   ]
  },
  {
   "cell_type": "code",
   "execution_count": null,
   "id": "d6f00e73",
   "metadata": {},
   "outputs": [],
   "source": [
    "#Решение"
   ]
  },
  {
   "cell_type": "markdown",
   "id": "27007178",
   "metadata": {},
   "source": [
    "### Задача 4 \n",
    "\n",
    "Напишите программу, которая объединяет значения из двух списков в словарь.\n",
    "\n",
    "Ввод:\n",
    "\n",
    "    shops = [{'товар': 'яблоки', 'количество': 400}, {'товар': 'конфеты', 'количество': 300}, {'товар': 'яблоки', 'количество': 750}]\n",
    "\n",
    "\n",
    "Вывод:\n",
    "\n",
    "    {'яблоки': 1150, 'конфеты': 300}"
   ]
  },
  {
   "cell_type": "code",
   "execution_count": null,
   "id": "50f409c4",
   "metadata": {},
   "outputs": [],
   "source": [
    "#Решение"
   ]
  },
  {
   "cell_type": "markdown",
   "id": "5622aa61",
   "metadata": {},
   "source": [
    "### Задача 5 Найти все числа от 1000 до 3000 включительно, все цифры которых четные.\n",
    "\n",
    "Программа должна выдавать результат в виде разделенной запятыми строки"
   ]
  },
  {
   "cell_type": "code",
   "execution_count": null,
   "id": "48c989e4",
   "metadata": {},
   "outputs": [],
   "source": [
    "#Решение"
   ]
  },
  {
   "cell_type": "markdown",
   "id": "fd176983",
   "metadata": {},
   "source": [
    "### Задача 6 Найти частоту слов в строке. Строка вводится с клавиатуры, допустим, она разделена пробелами\n",
    "\n",
    "Вход: \"Я не кидал никого никогда\"\n",
    "\n",
    "\n",
    "Выход:\n",
    "\n",
    "    Я:1\n",
    "    не:1\n",
    "    кидал:1\n",
    "    никого:1\n",
    "    никогда:1"
   ]
  },
  {
   "cell_type": "code",
   "execution_count": null,
   "id": "e8258db3",
   "metadata": {},
   "outputs": [],
   "source": [
    "#Решение"
   ]
  },
  {
   "cell_type": "markdown",
   "id": "5da82740",
   "metadata": {},
   "source": [
    "### Задача 7\n",
    "Владимир устроился на работу в одно очень важное место. И в первом же документе он ничего не понял, \n",
    "там были сплошные ФГУП НИЦ ГИДГЕО, ФГОУ ЧШУ АПК и т.п. Тогда он решил собрать все аббревиатуры, чтобы потом найти их расшифровки на http://sokr.ru/. Помогите ему.\n",
    "Будем считать аббревиатурой слова только лишь из заглавных букв (как минимум из двух). Если несколько таких слов разделены пробелами, то они \n",
    "считаются одной аббревиатурой."
   ]
  },
  {
   "cell_type": "markdown",
   "id": "65f08a85",
   "metadata": {},
   "source": [
    "**Ввод**: Это курс информатики соответствует ФГОС и ПООП, это подтверждено ФГУ ФНЦ НИИСИ РАН\\\n",
    "**Вывод**: ФГОС, ПООП, ФГУ ФНЦ НИИСИ РАН"
   ]
  },
  {
   "cell_type": "code",
   "execution_count": null,
   "id": "6c74f3b3",
   "metadata": {},
   "outputs": [],
   "source": [
    "import re\n",
    "# Ваше решение\n",
    "s = 'Это курс информатики соответствует ФГОС и ПООП, это подтверждено ФГУ ФНЦ НИИСИ РАН'"
   ]
  },
  {
   "cell_type": "markdown",
   "id": "ff6786b3",
   "metadata": {},
   "source": [
    "### Задача 8 Задачка про поиск слов на а и на е"
   ]
  },
  {
   "cell_type": "markdown",
   "id": "b5ae621e",
   "metadata": {},
   "source": [
    "Найдите в тексте слова, начинающиеся на а и на е"
   ]
  },
  {
   "cell_type": "code",
   "execution_count": null,
   "id": "e8155534",
   "metadata": {},
   "outputs": [],
   "source": [
    "import re\n",
    "# Input.\n",
    "text = \"The following example creates an ArrayList with a capacity of 50 elements.\\\n",
    "        Four elements are then added to the ArrayList and the ArrayList is trimmed accordingly.\""
   ]
  },
  {
   "cell_type": "code",
   "execution_count": null,
   "id": "d7a7f1da",
   "metadata": {},
   "outputs": [],
   "source": [
    "#Решение"
   ]
  },
  {
   "cell_type": "markdown",
   "id": "a5d90247",
   "metadata": {},
   "source": [
    "## Задача 9 \n",
    "\n",
    "Помогите блогеру Сене выбрать из подписок в инстаграме аккаунты с определенными размерами аудитории, чтобы отправить предложение о сотрудничестве. \n",
    "\n",
    "ТРЕБУЕМАЯ ФУНКЦИЯ \n",
    "\n",
    "Функция filter_accounts, которая принимает в качестве параметра словарь accounts, ключами которого являются адреса аккаунтов, а значениями — число подписчиков. \n",
    "Также функция принимает в качестве параметров целые числа min_followers и max_followers. \n",
    "Функция должна возвращать список адресов аккаунтов, где число подписчиков находится в промежутке между min_followers и max_followers включительно, адреса должны быть отсортированы в лексикографическом порядке.\n",
    "\n",
    "Пример аргументов: {'@blogger13999': 2308, '@dragondragon': 1473, '@account': 1400, '@flowers': 1250, '@banana': 1500}, 1400, 1500)\n",
    "\n",
    "Пример вывода: ['@account', '@banana', '@dragondragon']"
   ]
  },
  {
   "cell_type": "code",
   "execution_count": null,
   "id": "5803545d",
   "metadata": {},
   "outputs": [],
   "source": [
    "#Решение"
   ]
  }
 ],
 "metadata": {
  "kernelspec": {
   "display_name": "Python 3 (ipykernel)",
   "language": "python",
   "name": "python3"
  },
  "language_info": {
   "codemirror_mode": {
    "name": "ipython",
    "version": 3
   },
   "file_extension": ".py",
   "mimetype": "text/x-python",
   "name": "python",
   "nbconvert_exporter": "python",
   "pygments_lexer": "ipython3",
   "version": "3.9.7"
  }
 },
 "nbformat": 4,
 "nbformat_minor": 5
}
