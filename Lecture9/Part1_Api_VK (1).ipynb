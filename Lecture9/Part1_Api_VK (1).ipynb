{
 "cells": [
  {
   "cell_type": "markdown",
   "metadata": {},
   "source": [
    "# API VK\n",
    "\n",
    "__API (Application Programming Interface__ — это уже готовый код, который можно всунуть в свой код! Многие сервисы, в том числе Google и Вконтакте, предоставляют свои уже готовые решения для вашей разработки.\n",
    "\n",
    "Примеры: \n",
    "\n",
    "* [Контактовский API](https://vk.com/dev/methods)\n",
    "* [API twitter](https://developer.twitter.com/en/docs.html) - nope\n",
    "* [API youtube](https://developers.google.com/youtube/v3/) \n",
    "* [API google maps](https://developers.google.com/maps/documentation/) \n",
    "* [Aviasales](https://www.aviasales.ru/API)\n",
    "* [Yandex Translate](https://yandex.ru/dev/translate/)\n",
    "\n",
    "Оно есть почти везде! На этом семинаре мы посмотрим на два примера: на API контакта и google maps."
   ]
  },
  {
   "cell_type": "markdown",
   "metadata": {},
   "source": [
    "## 3.1 API vk\n",
    "\n",
    "Зачем может понадобиться доступ к API контакта, думаю, объяснять не надо. Социальная сетка — это тонны различной полезной информации, которую можно заиспользовать для своих целей. [В документации](https://vk.com/dev/manuals) очень подробно описано как можно работать с API контакта и к чему это приводит. \n",
    "\n",
    "Но для начала к API нужно получить доступ. Для этого придётся пройти пару бюрократических процедур (о, боже, эти два предложения были так бюрократически сформулированы, что мне захотелось отстоять в очереди).\n",
    "\n",
    "Первая такая процедура заключается в создании своего приложения. Для этого переходим по [ссылке](http://vk.com/editapp?act=create) и проходимся по необходимым шагам:\n",
    "\n",
    "<img align=\"center\" src=\"https://raw.githubusercontent.com/hse-econ-data-science/eds_spring_2020/master/sem05_parsing/image/app_creation_1.png\" width=\"500\">\n",
    "\n",
    "После подтверждения своей личности по номеру телефона, попадаем на страницу свежесозданного приложения\n",
    "\n",
    "<img align=\"center\" src=\"https://raw.githubusercontent.com/hse-econ-data-science/eds_spring_2020/master/sem05_parsing/image/app_creation_2.png\" width=\"500\">\n",
    "\n",
    "Слева нам будем доступна вкладка с настройками, перейдя в неё мы увидим все необходимые нам для работы с приложением параметры:\n",
    "<img align=\"center\" src=\"https://raw.githubusercontent.com/hse-econ-data-science/eds_spring_2020/master/sem05_parsing/image/app_creation_3.png\" width=\"500\">\n",
    "\n",
    "Отсюда в качестве токена можно забрать сервисный ключ доступа. Для работы с частью методов API этого вполне достаточно (обычно в заголовке такого метода стоит соответствующая пометка). Иногда нужны дополнительные доступы. Для того, чтобы получить их, необходимо сделать ещё пару странных манипуляций:\n",
    "\n",
    "Переходим по ссылке вида (на месте звездочек должен стоять ID созданного вами приложения):\n",
    "\n",
    "> https://oauth.vk.com/authorize?client_id=**********&scope=8198&redirect_uri=https://oauth.vk.com/blank.html&display=page&v=5.16&response_type=token\n",
    "\n",
    "В итоге по этому запросу будет сформирована ссылка следующего вида:\n",
    "> https://oauth.vk.com/blank.html#access_token=25b636116ef40e0718fe4d9f382544fc28&expires_in=86400&user_id=*******\n",
    "\n",
    "Первый набор знаков — `access token`, т.е. маркер доступа. Вторая цифра (`expires_in=`) время работы маркера доступа в секундах (одни сутки). По истечению суток нужно будет получить новый маркер доступа. Последняя цифра (`user_id=`) ваш ID Вконтакте. Нам в дальнейшем понадобится маркер доступа. Для удобства сохраним его в отдельном файле или экспортируем в глобальную область видимости. В целях безопасности ваших данных не стоит нигде светить токенами и тем более выкладывать их в открытый доступ. __Так можно и аккаунта случайно лишиться.__ Берегите токен смолоду. \n",
    "\n",
    "Обратите внимание на ссылку, по которой мы делали запрос на предоставление токена. Внутри неё находится странный параметр `scope=8198.` Это мы просим доступ к конкретным разделам. Подробнее познакомиться с взаимно-однозначным соответствием между числами и правами можно [в документации.](https://vk.com/dev/permissions) Например, если мы хотим получить доступ к друзьям, фото и стенам, мы подставим в scope цифру 2+4++8192=8198."
   ]
  },
  {
   "cell_type": "code",
   "execution_count": 1,
   "metadata": {},
   "outputs": [],
   "source": [
    "import requests"
   ]
  },
  {
   "cell_type": "code",
   "execution_count": 2,
   "metadata": {},
   "outputs": [],
   "source": [
    "# мой номер странички\n",
    "myid = '153433657'  # вставить номер странички\n",
    "\n",
    "# версия используемого API\n",
    "version = '5.103' \n",
    "token = '9c1bcfcb9c1bcfcb9c1bcfcbfb9c673f4d99c1b9c1bcfcbfe846612e51341b8587ce44a'\n"
   ]
  },
  {
   "cell_type": "code",
   "execution_count": 3,
   "metadata": {},
   "outputs": [
    {
     "data": {
      "text/plain": [
       "{'response': [{'id': 153433657,\n",
       "   'first_name': 'Yan',\n",
       "   'last_name': 'Pile',\n",
       "   'can_access_closed': False,\n",
       "   'is_closed': True}]}"
      ]
     },
     "execution_count": 3,
     "metadata": {},
     "output_type": "execute_result"
    }
   ],
   "source": [
    "requests.get(f'https://api.vk.com/method/users.get?user_id=153433657&v={version}&access_token={token}').json()"
   ]
  },
  {
   "cell_type": "markdown",
   "metadata": {},
   "source": [
    "Чтобы скачать что-то из контакта, надо сделать ссылку и сходить по ней пакетом `requests`. Ссылка должна будет включать в себя метод (что мы просим у вк) и параметры (насколько много и как именно). Мы будем просто заменять эти две штуки и выкачивать разные вещи. "
   ]
  },
  {
   "cell_type": "code",
   "execution_count": 4,
   "metadata": {},
   "outputs": [
    {
     "data": {
      "text/plain": [
       "{'response': [{'id': 80406183,\n",
       "   'first_name': 'Margarita',\n",
       "   'last_name': 'Burova',\n",
       "   'can_access_closed': True,\n",
       "   'is_closed': False}]}"
      ]
     },
     "execution_count": 4,
     "metadata": {},
     "output_type": "execute_result"
    }
   ],
   "source": [
    "method = 'users.get'\n",
    "parameters = 'user_ids=80406183'\n",
    "\n",
    "url = 'https://api.vk.com/method/' + method + '?' + parameters + '&v=' + version + '&access_token=' + token\n",
    "\n",
    "response = requests.get(url) \n",
    "response.json()"
   ]
  },
  {
   "cell_type": "markdown",
   "metadata": {},
   "source": [
    "В ответ на наш запрос vk выкидывает JSON с информацией. JSON очень похож на питонячие словарики. Смысл квадратных и фигурных скобок такой же. Правда, есть и отличия: например, в Python одинарные и двойные кавычки ничем не отличаются, а в JSON можно использовать только двойные. \n",
    "\n",
    "Мы видим, что полученный нами JSON представляет собой словарь, значения которого — строки или числа, а также списки или словари, значения которых в свою очередь также могут быть строками, числами, списками, словарями и т.д. То есть получается такая довольно сложная структура данных, из которой можно вытащить всё то, что нас интересует. "
   ]
  },
  {
   "cell_type": "code",
   "execution_count": 6,
   "metadata": {},
   "outputs": [
    {
     "data": {
      "text/plain": [
       "'Margarita'"
      ]
     },
     "execution_count": 6,
     "metadata": {},
     "output_type": "execute_result"
    }
   ],
   "source": [
    "response.json()['response'][0]['first_name']"
   ]
  },
  {
   "cell_type": "markdown",
   "metadata": {},
   "source": [
    "[В документации](https://vk.com/dev/manuals) очень подробно описано какие есть методы и какие у них бывают параметры.  Давайте завернём код выше в функцию и попробуем что-нибудь скачать."
   ]
  },
  {
   "cell_type": "code",
   "execution_count": 7,
   "metadata": {},
   "outputs": [],
   "source": [
    "def vk_download(method, parameters):\n",
    "    \n",
    "    url = 'https://api.vk.com/method/' + method + '?' + parameters + '&access_token=' + token + '&v=' + version\n",
    "    response = requests.get(url) \n",
    "    infa = response.json()\n",
    "    return infa"
   ]
  },
  {
   "cell_type": "markdown",
   "metadata": {},
   "source": [
    "Например, все лайки с [хайер скул оф мемс.](https://vk.com/hsemem)\n",
    "Как найти адрес страницы [тут](https://vk.com/faq18062)"
   ]
  },
  {
   "cell_type": "code",
   "execution_count": 8,
   "metadata": {},
   "outputs": [],
   "source": [
    "group_id = '-139105204'  # взяли из ссылки на группу"
   ]
  },
  {
   "cell_type": "code",
   "execution_count": 9,
   "metadata": {},
   "outputs": [],
   "source": [
    "wall = vk_download('wall.get', 'owner_id={}&count=100'.format(group_id))\n",
    "wall = wall['response']"
   ]
  },
  {
   "cell_type": "code",
   "execution_count": 12,
   "metadata": {},
   "outputs": [
    {
     "data": {
      "text/plain": [
       "{'id': 91284,\n",
       " 'from_id': -139105204,\n",
       " 'owner_id': -139105204,\n",
       " 'date': 1655125380,\n",
       " 'marked_as_ads': 0,\n",
       " 'post_type': 'post',\n",
       " 'text': 'Ну вы поняли',\n",
       " 'signer_id': 231301210,\n",
       " 'attachments': [{'type': 'photo',\n",
       "   'photo': {'album_id': -7,\n",
       "    'date': 1654870702,\n",
       "    'id': 457266462,\n",
       "    'owner_id': -139105204,\n",
       "    'access_key': 'bed23430b700cda9df',\n",
       "    'sizes': [{'height': 75,\n",
       "      'url': 'https://sun9-4.userapi.com/s/v1/if2/yAYNcTwmhGCurCRpAvvXKB-NacoVqCyzlTQ5M7BGbdI6t-Ui2FMTVF31TtsEn-olsekonB6bmLKG0_c49fdjuixz.jpg?size=46x75&quality=95&type=album',\n",
       "      'type': 's',\n",
       "      'width': 46},\n",
       "     {'height': 130,\n",
       "      'url': 'https://sun9-4.userapi.com/s/v1/if2/flC6PmJHAxllYQSFaaD5_kh30N7NoqzVzG2NvS78aTOkXK5pdi7Czc4SmdMp2bg5QEoQFMwlbAPVsnxFsy8_gf2Z.jpg?size=79x130&quality=95&type=album',\n",
       "      'type': 'm',\n",
       "      'width': 79},\n",
       "     {'height': 604,\n",
       "      'url': 'https://sun9-4.userapi.com/s/v1/if2/0YRQn8pbhjMVt_1DisC8AiMQMwr3gxzIKXOayq-DMcttLYsG1AN8lFS_v_U2CA0x2KkmbRqcWWlgKflKVHEWPn9m.jpg?size=369x604&quality=95&type=album',\n",
       "      'type': 'x',\n",
       "      'width': 369},\n",
       "     {'height': 807,\n",
       "      'url': 'https://sun9-4.userapi.com/s/v1/if2/txUw9BY4l3rWhxAwPB20fSu5kd0B34UaFtJ9B4rcWL6QLC-L2w_PjkNr903v8M5dyjkigUqrtuNmysL8ZXZSCSBl.jpg?size=493x807&quality=95&type=album',\n",
       "      'type': 'y',\n",
       "      'width': 493},\n",
       "     {'height': 1080,\n",
       "      'url': 'https://sun9-4.userapi.com/s/v1/if2/CVyUKER7VRZ0azx33_qUNXIQKICUMyc3FyWkhx1ShcSh2J-6CQSQyiJV6Gx6TbaZBxRR8MeBRNMqeU1-tdiu1qbu.jpg?size=660x1080&quality=95&type=album',\n",
       "      'type': 'z',\n",
       "      'width': 660},\n",
       "     {'height': 213,\n",
       "      'url': 'https://sun9-4.userapi.com/s/v1/if2/1YTgLD86ZaMOw06APEzdM21b-W76B00c68rHU9kqBYmTKrIb_ePAuUQf9uV71g6r9jOOFSWSkokVhOk3LBMjJQ88.jpg?size=130x213&quality=95&type=album',\n",
       "      'type': 'o',\n",
       "      'width': 130},\n",
       "     {'height': 327,\n",
       "      'url': 'https://sun9-4.userapi.com/s/v1/if2/4Dqp4qSBa_LrsdTwFnGRzMs9XxRd9EIJ94ZDc8EsfHut-53YQJukIhquiXmeLU8Xi6Ii37yzfGJoekWUQisGtv2Z.jpg?size=200x327&quality=95&type=album',\n",
       "      'type': 'p',\n",
       "      'width': 200},\n",
       "     {'height': 524,\n",
       "      'url': 'https://sun9-4.userapi.com/s/v1/if2/cONNRod39__9CDf-I5OK2_iPEWnN6hFy500yVUvy6OIibf5MJa72ytSJgrVpgpl8WWAteVpq3tBZ2EQ4r92rg0Ru.jpg?size=320x524&quality=95&type=album',\n",
       "      'type': 'q',\n",
       "      'width': 320},\n",
       "     {'height': 835,\n",
       "      'url': 'https://sun9-4.userapi.com/s/v1/if2/7EywbPLX1ny69io63u0yLr-KeThoGqesmBc2KvrRoGWLXwbYj2hDCJK0k-W6D-7jZtO8aoEpSBnuyMwkHhoNp2P6.jpg?size=510x835&quality=95&type=album',\n",
       "      'type': 'r',\n",
       "      'width': 510}],\n",
       "    'text': '',\n",
       "    'user_id': 100}},\n",
       "  {'type': 'photo',\n",
       "   'photo': {'album_id': -7,\n",
       "    'date': 1654870702,\n",
       "    'id': 457266463,\n",
       "    'owner_id': -139105204,\n",
       "    'access_key': '8be7b2be0cb16bf272',\n",
       "    'sizes': [{'height': 49,\n",
       "      'url': 'https://sun9-18.userapi.com/s/v1/if2/DjEST49ZnRVXN9Lni7TNQB7ctA3k25XRpbHVEVI3YUywDCs7eExlsWiv4OhKREkFpkMr02VtD4z9XjcG_mg0RP5G.jpg?size=75x49&quality=95&type=album',\n",
       "      'type': 's',\n",
       "      'width': 75},\n",
       "     {'height': 86,\n",
       "      'url': 'https://sun9-18.userapi.com/s/v1/if2/2nDPvDxCxNwbr4BZI9ByNKPa6SXrqa2K5uvVGKwF7MlsfFtTe3_J7MnC0HI-xeTcoC_zcZYnvA4guYJfFNIDx4wp.jpg?size=130x86&quality=95&type=album',\n",
       "      'type': 'm',\n",
       "      'width': 130},\n",
       "     {'height': 398,\n",
       "      'url': 'https://sun9-18.userapi.com/s/v1/if2/FZYuwtJ1Sxyhr_g0-ZAK8O4ZaQRab08T_QwtewRrR3um0DRCgbaumkenXcd1F38v4OElX0XWhe9SWKmv0XHhYQZK.jpg?size=604x398&quality=95&type=album',\n",
       "      'type': 'x',\n",
       "      'width': 604},\n",
       "     {'height': 531,\n",
       "      'url': 'https://sun9-18.userapi.com/s/v1/if2/SoOZlOdU30c0Q0jBAGVZGnq9VKKN4kPRSo0lqyLRH0y6JAFneBhyTrZSLxFz2cMqljEjAK3RoexWNT2rgpKN9LJa.jpg?size=807x531&quality=95&type=album',\n",
       "      'type': 'y',\n",
       "      'width': 807},\n",
       "     {'height': 711,\n",
       "      'url': 'https://sun9-18.userapi.com/s/v1/if2/Mk7Fmtvc_hcPth9_HfJACAufc9XK_mjb4MbHnpcvRPnsiHobGuaNfRq2-xLvBm_P8EIt7iOpZc6gqUQjeo-vEezl.jpg?size=1080x711&quality=95&type=album',\n",
       "      'type': 'z',\n",
       "      'width': 1080},\n",
       "     {'height': 87,\n",
       "      'url': 'https://sun9-18.userapi.com/s/v1/if2/k-OauK8F2dygIlHGRt38zxw0UvLTVm4ippBSCpaekBnxNkhACBytMkz-0dpk3tw5PIpS4HxeYV27-qFD6kRX8GYe.jpg?size=130x87&quality=95&crop=9,0,1062,711&type=album',\n",
       "      'type': 'o',\n",
       "      'width': 130},\n",
       "     {'height': 133,\n",
       "      'url': 'https://sun9-18.userapi.com/s/v1/if2/VDq_4V6vFNHv3d5MitkCA4byWy5ScXxaJZw6RGUTIM81blpUrM8dcQRI-5sS2pwO3CzDZwAfVOj7pNjXP5xTaa9Y.jpg?size=200x133&quality=95&crop=5,0,1069,711&type=album',\n",
       "      'type': 'p',\n",
       "      'width': 200},\n",
       "     {'height': 213,\n",
       "      'url': 'https://sun9-18.userapi.com/s/v1/if2/cqDgBpYrxlyvfSr4yBsthWOCiS5DAkoBrdE3Rv-kVYy51bisKuDtUI-jAqyxs2erO3xUukxvj33acW7hMLQomm7b.jpg?size=320x213&quality=95&crop=6,0,1068,711&type=album',\n",
       "      'type': 'q',\n",
       "      'width': 320},\n",
       "     {'height': 340,\n",
       "      'url': 'https://sun9-18.userapi.com/s/v1/if2/tlIs_fZrCGOkluMoUaagV0JQvlWh1CfjIsK-lU3UHm6Gh4oWXtzFbfOiYt6w0CtpGeND0yhZlcbZDF06tLk1GgVQ.jpg?size=510x340&quality=95&crop=7,0,1066,711&type=album',\n",
       "      'type': 'r',\n",
       "      'width': 510}],\n",
       "    'text': '',\n",
       "    'user_id': 100}}],\n",
       " 'comments': {'count': 0},\n",
       " 'likes': {'can_like': 0, 'count': 746, 'user_likes': 0},\n",
       " 'reposts': {'count': 192},\n",
       " 'views': {'count': 26477},\n",
       " 'hash': 'OAtrqZ2_UTFbHVSZPA'}"
      ]
     },
     "execution_count": 12,
     "metadata": {},
     "output_type": "execute_result"
    }
   ],
   "source": [
    "wall['items'][5]"
   ]
  },
  {
   "cell_type": "code",
   "execution_count": 15,
   "metadata": {},
   "outputs": [],
   "source": [
    "post = vk_download('wall.getComments', 'owner_id={}&post_id=87730'.format(group_id))"
   ]
  },
  {
   "cell_type": "code",
   "execution_count": 17,
   "metadata": {},
   "outputs": [
    {
     "data": {
      "text/plain": [
       "{'response': {'count': 8,\n",
       "  'items': [{'id': 87731,\n",
       "    'from_id': 385920930,\n",
       "    'date': 1647792075,\n",
       "    'text': 'Дед: поступил в МГУ',\n",
       "    'post_id': 87730,\n",
       "    'owner_id': -139105204,\n",
       "    'parents_stack': [],\n",
       "    'thread': {'count': 0,\n",
       "     'items': [],\n",
       "     'can_post': True,\n",
       "     'show_reply_button': True,\n",
       "     'groups_can_post': True}},\n",
       "   {'id': 87732,\n",
       "    'from_id': 157683966,\n",
       "    'date': 1647792568,\n",
       "    'text': '*а делать это с вечера',\n",
       "    'post_id': 87730,\n",
       "    'owner_id': -139105204,\n",
       "    'parents_stack': [],\n",
       "    'thread': {'count': 0,\n",
       "     'items': [],\n",
       "     'can_post': True,\n",
       "     'show_reply_button': True,\n",
       "     'groups_can_post': True}},\n",
       "   {'id': 87733,\n",
       "    'from_id': 550443032,\n",
       "    'date': 1647792695,\n",
       "    'text': 'Одно другому не мешает',\n",
       "    'post_id': 87730,\n",
       "    'owner_id': -139105204,\n",
       "    'parents_stack': [],\n",
       "    'thread': {'count': 0,\n",
       "     'items': [],\n",
       "     'can_post': True,\n",
       "     'show_reply_button': True,\n",
       "     'groups_can_post': True}},\n",
       "   {'id': 87734,\n",
       "    'from_id': 104955490,\n",
       "    'date': 1647795576,\n",
       "    'text': 'Наоборот хороший повод…',\n",
       "    'post_id': 87730,\n",
       "    'owner_id': -139105204,\n",
       "    'parents_stack': [],\n",
       "    'thread': {'count': 0,\n",
       "     'items': [],\n",
       "     'can_post': True,\n",
       "     'show_reply_button': True,\n",
       "     'groups_can_post': True}},\n",
       "   {'id': 87735,\n",
       "    'from_id': 562569819,\n",
       "    'date': 1647797297,\n",
       "    'text': 'Иностранцы: поступают в ВШЭ,  потому что там самые красивые девушки🌚',\n",
       "    'post_id': 87730,\n",
       "    'owner_id': -139105204,\n",
       "    'parents_stack': [],\n",
       "    'thread': {'count': 1,\n",
       "     'items': [],\n",
       "     'can_post': True,\n",
       "     'show_reply_button': True,\n",
       "     'groups_can_post': True}},\n",
       "   {'id': 87737,\n",
       "    'from_id': 37406600,\n",
       "    'date': 1647799091,\n",
       "    'text': 'Пока учился, бухал каждый день',\n",
       "    'post_id': 87730,\n",
       "    'owner_id': -139105204,\n",
       "    'parents_stack': [],\n",
       "    'thread': {'count': 0,\n",
       "     'items': [],\n",
       "     'can_post': True,\n",
       "     'show_reply_button': True,\n",
       "     'groups_can_post': True}},\n",
       "   {'id': 87748,\n",
       "    'from_id': 71575857,\n",
       "    'date': 1647846066,\n",
       "    'text': 'Мальчик: поступил в ВШЭ, чтобы найти парня \\nМужчина: поступил в Вышку, чтобы найти мужа',\n",
       "    'post_id': 87730,\n",
       "    'owner_id': -139105204,\n",
       "    'parents_stack': [],\n",
       "    'thread': {'count': 0,\n",
       "     'items': [],\n",
       "     'can_post': True,\n",
       "     'show_reply_button': True,\n",
       "     'groups_can_post': True}}],\n",
       "  'current_level_count': 7,\n",
       "  'can_post': True,\n",
       "  'show_reply_button': True,\n",
       "  'groups_can_post': True}}"
      ]
     },
     "execution_count": 17,
     "metadata": {},
     "output_type": "execute_result"
    }
   ],
   "source": [
    "post"
   ]
  },
  {
   "cell_type": "code",
   "execution_count": 16,
   "metadata": {},
   "outputs": [
    {
     "data": {
      "text/plain": [
       "{'count': 8,\n",
       " 'items': [{'id': 87731,\n",
       "   'from_id': 385920930,\n",
       "   'date': 1647792075,\n",
       "   'text': 'Дед: поступил в МГУ',\n",
       "   'post_id': 87730,\n",
       "   'owner_id': -139105204,\n",
       "   'parents_stack': [],\n",
       "   'thread': {'count': 0,\n",
       "    'items': [],\n",
       "    'can_post': True,\n",
       "    'show_reply_button': True,\n",
       "    'groups_can_post': True}},\n",
       "  {'id': 87732,\n",
       "   'from_id': 157683966,\n",
       "   'date': 1647792568,\n",
       "   'text': '*а делать это с вечера',\n",
       "   'post_id': 87730,\n",
       "   'owner_id': -139105204,\n",
       "   'parents_stack': [],\n",
       "   'thread': {'count': 0,\n",
       "    'items': [],\n",
       "    'can_post': True,\n",
       "    'show_reply_button': True,\n",
       "    'groups_can_post': True}},\n",
       "  {'id': 87733,\n",
       "   'from_id': 550443032,\n",
       "   'date': 1647792695,\n",
       "   'text': 'Одно другому не мешает',\n",
       "   'post_id': 87730,\n",
       "   'owner_id': -139105204,\n",
       "   'parents_stack': [],\n",
       "   'thread': {'count': 0,\n",
       "    'items': [],\n",
       "    'can_post': True,\n",
       "    'show_reply_button': True,\n",
       "    'groups_can_post': True}},\n",
       "  {'id': 87734,\n",
       "   'from_id': 104955490,\n",
       "   'date': 1647795576,\n",
       "   'text': 'Наоборот хороший повод…',\n",
       "   'post_id': 87730,\n",
       "   'owner_id': -139105204,\n",
       "   'parents_stack': [],\n",
       "   'thread': {'count': 0,\n",
       "    'items': [],\n",
       "    'can_post': True,\n",
       "    'show_reply_button': True,\n",
       "    'groups_can_post': True}},\n",
       "  {'id': 87735,\n",
       "   'from_id': 562569819,\n",
       "   'date': 1647797297,\n",
       "   'text': 'Иностранцы: поступают в ВШЭ,  потому что там самые красивые девушки🌚',\n",
       "   'post_id': 87730,\n",
       "   'owner_id': -139105204,\n",
       "   'parents_stack': [],\n",
       "   'thread': {'count': 1,\n",
       "    'items': [],\n",
       "    'can_post': True,\n",
       "    'show_reply_button': True,\n",
       "    'groups_can_post': True}},\n",
       "  {'id': 87737,\n",
       "   'from_id': 37406600,\n",
       "   'date': 1647799091,\n",
       "   'text': 'Пока учился, бухал каждый день',\n",
       "   'post_id': 87730,\n",
       "   'owner_id': -139105204,\n",
       "   'parents_stack': [],\n",
       "   'thread': {'count': 0,\n",
       "    'items': [],\n",
       "    'can_post': True,\n",
       "    'show_reply_button': True,\n",
       "    'groups_can_post': True}},\n",
       "  {'id': 87748,\n",
       "   'from_id': 71575857,\n",
       "   'date': 1647846066,\n",
       "   'text': 'Мальчик: поступил в ВШЭ, чтобы найти парня \\nМужчина: поступил в Вышку, чтобы найти мужа',\n",
       "   'post_id': 87730,\n",
       "   'owner_id': -139105204,\n",
       "   'parents_stack': [],\n",
       "   'thread': {'count': 0,\n",
       "    'items': [],\n",
       "    'can_post': True,\n",
       "    'show_reply_button': True,\n",
       "    'groups_can_post': True}}],\n",
       " 'current_level_count': 7,\n",
       " 'can_post': True,\n",
       " 'show_reply_button': True,\n",
       " 'groups_can_post': True}"
      ]
     },
     "execution_count": 16,
     "metadata": {},
     "output_type": "execute_result"
    }
   ],
   "source": [
    "post['response']"
   ]
  },
  {
   "cell_type": "code",
   "execution_count": 14,
   "metadata": {},
   "outputs": [
    {
     "data": {
      "text/plain": [
       "{'response': {'count': 8,\n",
       "  'items': [{'id': 87731,\n",
       "    'from_id': 385920930,\n",
       "    'date': 1647792075,\n",
       "    'text': 'Дед: поступил в МГУ',\n",
       "    'post_id': 87730,\n",
       "    'owner_id': -139105204,\n",
       "    'parents_stack': [],\n",
       "    'thread': {'count': 0,\n",
       "     'items': [],\n",
       "     'can_post': True,\n",
       "     'show_reply_button': True,\n",
       "     'groups_can_post': True}},\n",
       "   {'id': 87732,\n",
       "    'from_id': 157683966,\n",
       "    'date': 1647792568,\n",
       "    'text': '*а делать это с вечера',\n",
       "    'post_id': 87730,\n",
       "    'owner_id': -139105204,\n",
       "    'parents_stack': [],\n",
       "    'thread': {'count': 0,\n",
       "     'items': [],\n",
       "     'can_post': True,\n",
       "     'show_reply_button': True,\n",
       "     'groups_can_post': True}},\n",
       "   {'id': 87733,\n",
       "    'from_id': 550443032,\n",
       "    'date': 1647792695,\n",
       "    'text': 'Одно другому не мешает',\n",
       "    'post_id': 87730,\n",
       "    'owner_id': -139105204,\n",
       "    'parents_stack': [],\n",
       "    'thread': {'count': 0,\n",
       "     'items': [],\n",
       "     'can_post': True,\n",
       "     'show_reply_button': True,\n",
       "     'groups_can_post': True}},\n",
       "   {'id': 87734,\n",
       "    'from_id': 104955490,\n",
       "    'date': 1647795576,\n",
       "    'text': 'Наоборот хороший повод…',\n",
       "    'post_id': 87730,\n",
       "    'owner_id': -139105204,\n",
       "    'parents_stack': [],\n",
       "    'thread': {'count': 0,\n",
       "     'items': [],\n",
       "     'can_post': True,\n",
       "     'show_reply_button': True,\n",
       "     'groups_can_post': True}},\n",
       "   {'id': 87735,\n",
       "    'from_id': 562569819,\n",
       "    'date': 1647797297,\n",
       "    'text': 'Иностранцы: поступают в ВШЭ,  потому что там самые красивые девушки🌚',\n",
       "    'post_id': 87730,\n",
       "    'owner_id': -139105204,\n",
       "    'parents_stack': [],\n",
       "    'thread': {'count': 1,\n",
       "     'items': [],\n",
       "     'can_post': True,\n",
       "     'show_reply_button': True,\n",
       "     'groups_can_post': True}},\n",
       "   {'id': 87737,\n",
       "    'from_id': 37406600,\n",
       "    'date': 1647799091,\n",
       "    'text': 'Пока учился, бухал каждый день',\n",
       "    'post_id': 87730,\n",
       "    'owner_id': -139105204,\n",
       "    'parents_stack': [],\n",
       "    'thread': {'count': 0,\n",
       "     'items': [],\n",
       "     'can_post': True,\n",
       "     'show_reply_button': True,\n",
       "     'groups_can_post': True}},\n",
       "   {'id': 87748,\n",
       "    'from_id': 71575857,\n",
       "    'date': 1647846066,\n",
       "    'text': 'Мальчик: поступил в ВШЭ, чтобы найти парня \\nМужчина: поступил в Вышку, чтобы найти мужа',\n",
       "    'post_id': 87730,\n",
       "    'owner_id': -139105204,\n",
       "    'parents_stack': [],\n",
       "    'thread': {'count': 0,\n",
       "     'items': [],\n",
       "     'can_post': True,\n",
       "     'show_reply_button': True,\n",
       "     'groups_can_post': True}}],\n",
       "  'current_level_count': 7,\n",
       "  'can_post': True,\n",
       "  'show_reply_button': True,\n",
       "  'groups_can_post': True}}"
      ]
     },
     "execution_count": 14,
     "metadata": {},
     "output_type": "execute_result"
    }
   ],
   "source": [
    "post"
   ]
  },
  {
   "cell_type": "code",
   "execution_count": 15,
   "metadata": {},
   "outputs": [
    {
     "data": {
      "text/plain": [
       "{'id': 91270,\n",
       " 'from_id': -139105204,\n",
       " 'owner_id': -139105204,\n",
       " 'date': 1655081650,\n",
       " 'marked_as_ads': 0,\n",
       " 'post_type': 'post',\n",
       " 'text': 'Доброе утро, красотулька.',\n",
       " 'comments': {'count': 8},\n",
       " 'likes': {'can_like': 0, 'count': 179, 'user_likes': 0},\n",
       " 'reposts': {'count': 43},\n",
       " 'views': {'count': 12364},\n",
       " 'zoom_text': True,\n",
       " 'hash': 'kQwCs7kGxSpIwmOlzg'}"
      ]
     },
     "execution_count": 15,
     "metadata": {},
     "output_type": "execute_result"
    }
   ],
   "source": [
    "wall['items'][6]"
   ]
  },
  {
   "cell_type": "code",
   "execution_count": 16,
   "metadata": {},
   "outputs": [
    {
     "data": {
      "text/plain": [
       "{'id': 91270,\n",
       " 'from_id': -139105204,\n",
       " 'owner_id': -139105204,\n",
       " 'date': 1655081650,\n",
       " 'marked_as_ads': 0,\n",
       " 'post_type': 'post',\n",
       " 'text': 'Доброе утро, красотулька.',\n",
       " 'comments': {'count': 8},\n",
       " 'likes': {'can_like': 0, 'count': 179, 'user_likes': 0},\n",
       " 'reposts': {'count': 43},\n",
       " 'views': {'count': 12364},\n",
       " 'zoom_text': True,\n",
       " 'hash': 'kQwCs7kGxSpIwmOlzg'}"
      ]
     },
     "execution_count": 16,
     "metadata": {},
     "output_type": "execute_result"
    }
   ],
   "source": [
    "wall['items'][6]"
   ]
  },
  {
   "cell_type": "code",
   "execution_count": 18,
   "metadata": {
    "scrolled": true
   },
   "outputs": [
    {
     "data": {
      "text/plain": [
       "dict_keys(['id', 'from_id', 'owner_id', 'date', 'marked_as_ads', 'post_type', 'text', 'is_pinned', 'attachments', 'comments', 'likes', 'reposts', 'views', 'edited', 'hash'])"
      ]
     },
     "execution_count": 18,
     "metadata": {},
     "output_type": "execute_result"
    }
   ],
   "source": [
    "wall['items'][0].keys()"
   ]
  },
  {
   "cell_type": "code",
   "execution_count": 19,
   "metadata": {},
   "outputs": [
    {
     "data": {
      "text/plain": [
       "1631891776"
      ]
     },
     "execution_count": 19,
     "metadata": {},
     "output_type": "execute_result"
    }
   ],
   "source": [
    "wall['items'][0]['edited']"
   ]
  },
  {
   "cell_type": "code",
   "execution_count": 20,
   "metadata": {},
   "outputs": [
    {
     "data": {
      "text/plain": [
       "1264"
      ]
     },
     "execution_count": 20,
     "metadata": {},
     "output_type": "execute_result"
    }
   ],
   "source": [
    "wall['items'][0]['likes']['count']"
   ]
  },
  {
   "cell_type": "code",
   "execution_count": 21,
   "metadata": {},
   "outputs": [
    {
     "data": {
      "text/plain": [
       "[1264, 53, 253, 2, 363, 746, 430, 180, 819, 531]"
      ]
     },
     "execution_count": 21,
     "metadata": {},
     "output_type": "execute_result"
    }
   ],
   "source": [
    "likes = [item['likes']['count'] for item in wall['items']]\n",
    "likes[:10]"
   ]
  },
  {
   "cell_type": "markdown",
   "metadata": {},
   "source": [
    "За один запрос скачалось всего-лишь $100$ постов с лайками. В паблике их целых"
   ]
  },
  {
   "cell_type": "code",
   "execution_count": 22,
   "metadata": {},
   "outputs": [
    {
     "data": {
      "text/plain": [
       "8552"
      ]
     },
     "execution_count": 22,
     "metadata": {},
     "output_type": "execute_result"
    }
   ],
   "source": [
    "wall['count']"
   ]
  },
  {
   "cell_type": "markdown",
   "metadata": {},
   "source": [
    "[Документация](https://vk.com/dev/manuals) говорит, что есть параметр `offset`, с помощью которого можно указать какие именно посты из группы нужно скачать. Например, если мы укажем `offset = 100`, скачается вторая сотня. Наше дело за малым: написать цикл. "
   ]
  },
  {
   "cell_type": "code",
   "execution_count": 23,
   "metadata": {},
   "outputs": [],
   "source": [
    "likes = []\n",
    "\n",
    "from tqdm import tqdm"
   ]
  },
  {
   "cell_type": "code",
   "execution_count": 24,
   "metadata": {},
   "outputs": [
    {
     "name": "stderr",
     "output_type": "stream",
     "text": [
      "100%|██████████████████████████████████████████████████████████████████████████████████| 48/48 [00:51<00:00,  1.07s/it]\n"
     ]
    }
   ],
   "source": [
    "import time\n",
    "\n",
    "likes = [ ] # сюда буду сохранять лайки\n",
    "\n",
    "for offset in tqdm(range(0, 4800, 100)):\n",
    "    \n",
    "    time.sleep(0.4) # вк согласен работать 3 раза в секунду, \n",
    "                    # между запросами python спит 0.4 секунды\n",
    "    \n",
    "    wall = vk_download('wall.get', 'owner_id={}&count=100&offset={}'.format(group_id, offset))\n",
    "    \n",
    "    likes.extend([item['likes']['count'] for item in wall['response']['items']])"
   ]
  },
  {
   "cell_type": "markdown",
   "metadata": {},
   "source": [
    "Лайки в наших руках. Можем даже посмотреть на их распределение и попробовать что-то с ними сделать. "
   ]
  },
  {
   "cell_type": "code",
   "execution_count": 25,
   "metadata": {},
   "outputs": [
    {
     "data": {
      "text/plain": [
       "4800"
      ]
     },
     "execution_count": 25,
     "metadata": {},
     "output_type": "execute_result"
    }
   ],
   "source": [
    "len(likes)"
   ]
  },
  {
   "cell_type": "code",
   "execution_count": null,
   "metadata": {},
   "outputs": [],
   "source": []
  },
  {
   "cell_type": "code",
   "execution_count": 26,
   "metadata": {},
   "outputs": [
    {
     "data": {
      "image/png": "[encoded data removed]",
      "text/plain": [
       "<Figure size 432x288 with 1 Axes>"
      ]
     },
     "metadata": {
      "needs_background": "light"
     },
     "output_type": "display_data"
    }
   ],
   "source": [
    "import matplotlib.pyplot as plt \n",
    "\n",
    "plt.hist(likes);"
   ]
  },
  {
   "cell_type": "markdown",
   "metadata": {},
   "source": [
    "В принципе похожим образом можно скачать что угодно."
   ]
  },
  {
   "cell_type": "markdown",
   "metadata": {},
   "source": [
    "# Хитрости: \n",
    "\n",
    "### Хитрость 1:  Не стесняйтесь пользоваться `try-except`\n",
    "\n",
    "Эта конструкция позволяет питону в случае ошибки сделать что-нибудь другое либо проигнорировать её. Например, мы хотим найти логарифм от всех чисел из списка: "
   ]
  },
  {
   "cell_type": "code",
   "execution_count": 133,
   "metadata": {},
   "outputs": [
    {
     "name": "stdout",
     "output_type": "stream",
     "text": [
      "0.0\n",
      "0.6931471805599453\n",
      "1.0986122886681098\n"
     ]
    },
    {
     "ename": "ValueError",
     "evalue": "math domain error",
     "output_type": "error",
     "traceback": [
      "\u001b[1;31m---------------------------------------------------------------------------\u001b[0m",
      "\u001b[1;31mValueError\u001b[0m                                Traceback (most recent call last)",
      "\u001b[1;32m~\\AppData\\Local\\Temp/ipykernel_41104/3254436914.py\u001b[0m in \u001b[0;36m<module>\u001b[1;34m\u001b[0m\n\u001b[0;32m      4\u001b[0m \u001b[1;33m\u001b[0m\u001b[0m\n\u001b[0;32m      5\u001b[0m \u001b[1;32mfor\u001b[0m \u001b[0mitem\u001b[0m \u001b[1;32min\u001b[0m \u001b[0ma\u001b[0m\u001b[1;33m:\u001b[0m\u001b[1;33m\u001b[0m\u001b[1;33m\u001b[0m\u001b[0m\n\u001b[1;32m----> 6\u001b[1;33m     \u001b[0mprint\u001b[0m\u001b[1;33m(\u001b[0m\u001b[0mlog\u001b[0m\u001b[1;33m(\u001b[0m\u001b[0mitem\u001b[0m\u001b[1;33m)\u001b[0m\u001b[1;33m)\u001b[0m\u001b[1;33m\u001b[0m\u001b[1;33m\u001b[0m\u001b[0m\n\u001b[0m",
      "\u001b[1;31mValueError\u001b[0m: math domain error"
     ]
    }
   ],
   "source": [
    "from math import log \n",
    "\n",
    "a = [1,2,3,-1,-5,10,3]\n",
    "\n",
    "for item in a:\n",
    "    print(log(item))"
   ]
  },
  {
   "cell_type": "markdown",
   "metadata": {},
   "source": [
    "У нас не выходит, так как логарифм от отрицательных чисел не берётся. Чтобы код не падал при возникновении ошибки, мы можем его немного изменить: "
   ]
  },
  {
   "cell_type": "code",
   "execution_count": 134,
   "metadata": {},
   "outputs": [
    {
     "name": "stdout",
     "output_type": "stream",
     "text": [
      "0.0\n",
      "0.6931471805599453\n",
      "1.0986122886681098\n",
      "я не смог\n",
      "я не смог\n",
      "2.302585092994046\n",
      "1.0986122886681098\n"
     ]
    }
   ],
   "source": [
    "from math import log \n",
    "\n",
    "a = [1,2,3,-1,-5,10,3]\n",
    "\n",
    "for item in a:\n",
    "    try:\n",
    "        print(log(item))  # попробуй взять логарифм\n",
    "    except:\n",
    "        print('я не смог') # если не вышло, сознайся и работай дальше"
   ]
  },
  {
   "cell_type": "markdown",
   "metadata": {},
   "source": [
    "__Как это использовать при парсинге?__  Интернет создаёт человек. У многих людей руки очень кривые. Предположим, что мы на ночь поставили парсер скачивать цены, он отработал час и упал из-за того, что на како-нибудь одной странице были криво проставлены теги, либо вылезло какое-то редкое поле, либо вылезли какие-то артефакты от старой версии сайта, которые не были учтены в нашем парсере. Гораздо лучше, чтобы код проигнорировал эту ошибку и продолжил работать дальше. "
   ]
  },
  {
   "cell_type": "markdown",
   "metadata": {},
   "source": [
    "### Хитрость 2:  pd.read_html\n",
    "\n",
    "Если на странице, которую вы спарсили, среди тэгов `<tr>` и `<td>` прячется таблица, чаще всего можно забрать её себе без написания цикла, который будет перебирать все стобцы и строки. Поможет в этом `pd.read_html`. Например, вот так можно забрать себе [табличку с сайта ЦБ](https://cbr.ru/currency_base/daily/) "
   ]
  },
  {
   "cell_type": "code",
   "execution_count": 136,
   "metadata": {},
   "outputs": [
    {
     "data": {
      "text/html": [
       "<div>\n",
       "<style scoped>\n",
       "    .dataframe tbody tr th:only-of-type {\n",
       "        vertical-align: middle;\n",
       "    }\n",
       "\n",
       "    .dataframe tbody tr th {\n",
       "        vertical-align: top;\n",
       "    }\n",
       "\n",
       "    .dataframe thead th {\n",
       "        text-align: right;\n",
       "    }\n",
       "</style>\n",
       "<table border=\"1\" class=\"dataframe\">\n",
       "  <thead>\n",
       "    <tr style=\"text-align: right;\">\n",
       "      <th></th>\n",
       "      <th>Цифр. код</th>\n",
       "      <th>Букв. код</th>\n",
       "      <th>Единиц</th>\n",
       "      <th>Валюта</th>\n",
       "      <th>Курс</th>\n",
       "    </tr>\n",
       "  </thead>\n",
       "  <tbody>\n",
       "    <tr>\n",
       "      <th>0</th>\n",
       "      <td>36</td>\n",
       "      <td>AUD</td>\n",
       "      <td>1</td>\n",
       "      <td>Австралийский доллар</td>\n",
       "      <td>437485</td>\n",
       "    </tr>\n",
       "    <tr>\n",
       "      <th>1</th>\n",
       "      <td>944</td>\n",
       "      <td>AZN</td>\n",
       "      <td>1</td>\n",
       "      <td>Азербайджанский манат</td>\n",
       "      <td>358568</td>\n",
       "    </tr>\n",
       "    <tr>\n",
       "      <th>2</th>\n",
       "      <td>51</td>\n",
       "      <td>AMD</td>\n",
       "      <td>100</td>\n",
       "      <td>Армянских драмов</td>\n",
       "      <td>140495</td>\n",
       "    </tr>\n",
       "    <tr>\n",
       "      <th>3</th>\n",
       "      <td>933</td>\n",
       "      <td>BYN</td>\n",
       "      <td>1</td>\n",
       "      <td>Белорусский рубль</td>\n",
       "      <td>234088</td>\n",
       "    </tr>\n",
       "    <tr>\n",
       "      <th>4</th>\n",
       "      <td>975</td>\n",
       "      <td>BGN</td>\n",
       "      <td>1</td>\n",
       "      <td>Болгарский лев</td>\n",
       "      <td>334283</td>\n",
       "    </tr>\n",
       "  </tbody>\n",
       "</table>\n",
       "</div>"
      ],
      "text/plain": [
       "   Цифр. код Букв. код  Единиц                 Валюта    Курс\n",
       "0         36       AUD       1   Австралийский доллар  437485\n",
       "1        944       AZN       1  Азербайджанский манат  358568\n",
       "2         51       AMD     100       Армянских драмов  140495\n",
       "3        933       BYN       1      Белорусский рубль  234088\n",
       "4        975       BGN       1         Болгарский лев  334283"
      ]
     },
     "execution_count": 136,
     "metadata": {},
     "output_type": "execute_result"
    }
   ],
   "source": [
    "import pandas as pd\n",
    "\n",
    "df = pd.read_html('https://cbr.ru/currency_base/daily/')[0]\n",
    "df.head()"
   ]
  },
  {
   "cell_type": "markdown",
   "metadata": {},
   "source": [
    "Команда пытается собрать в массив все таблички c веб-страницы. Если хочется, можно сначала через bs4 найти нужную таблицу, а потом уже распарсить её: "
   ]
  },
  {
   "cell_type": "code",
   "execution_count": 138,
   "metadata": {},
   "outputs": [
    {
     "data": {
      "text/html": [
       "<div>\n",
       "<style scoped>\n",
       "    .dataframe tbody tr th:only-of-type {\n",
       "        vertical-align: middle;\n",
       "    }\n",
       "\n",
       "    .dataframe tbody tr th {\n",
       "        vertical-align: top;\n",
       "    }\n",
       "\n",
       "    .dataframe thead th {\n",
       "        text-align: right;\n",
       "    }\n",
       "</style>\n",
       "<table border=\"1\" class=\"dataframe\">\n",
       "  <thead>\n",
       "    <tr style=\"text-align: right;\">\n",
       "      <th></th>\n",
       "      <th>Цифр. код</th>\n",
       "      <th>Букв. код</th>\n",
       "      <th>Единиц</th>\n",
       "      <th>Валюта</th>\n",
       "      <th>Курс</th>\n",
       "    </tr>\n",
       "  </thead>\n",
       "  <tbody>\n",
       "    <tr>\n",
       "      <th>0</th>\n",
       "      <td>36</td>\n",
       "      <td>AUD</td>\n",
       "      <td>1</td>\n",
       "      <td>Австралийский доллар</td>\n",
       "      <td>437485</td>\n",
       "    </tr>\n",
       "    <tr>\n",
       "      <th>1</th>\n",
       "      <td>944</td>\n",
       "      <td>AZN</td>\n",
       "      <td>1</td>\n",
       "      <td>Азербайджанский манат</td>\n",
       "      <td>358568</td>\n",
       "    </tr>\n",
       "    <tr>\n",
       "      <th>2</th>\n",
       "      <td>51</td>\n",
       "      <td>AMD</td>\n",
       "      <td>100</td>\n",
       "      <td>Армянских драмов</td>\n",
       "      <td>140495</td>\n",
       "    </tr>\n",
       "    <tr>\n",
       "      <th>3</th>\n",
       "      <td>933</td>\n",
       "      <td>BYN</td>\n",
       "      <td>1</td>\n",
       "      <td>Белорусский рубль</td>\n",
       "      <td>234088</td>\n",
       "    </tr>\n",
       "    <tr>\n",
       "      <th>4</th>\n",
       "      <td>975</td>\n",
       "      <td>BGN</td>\n",
       "      <td>1</td>\n",
       "      <td>Болгарский лев</td>\n",
       "      <td>334283</td>\n",
       "    </tr>\n",
       "  </tbody>\n",
       "</table>\n",
       "</div>"
      ],
      "text/plain": [
       "   Цифр. код Букв. код  Единиц                 Валюта    Курс\n",
       "0         36       AUD       1   Австралийский доллар  437485\n",
       "1        944       AZN       1  Азербайджанский манат  358568\n",
       "2         51       AMD     100       Армянских драмов  140495\n",
       "3        933       BYN       1      Белорусский рубль  234088\n",
       "4        975       BGN       1         Болгарский лев  334283"
      ]
     },
     "execution_count": 138,
     "metadata": {},
     "output_type": "execute_result"
    }
   ],
   "source": [
    "resp = requests.get('https://cbr.ru/currency_base/daily/')\n",
    "tree = BeautifulSoup(resp.content, 'html.parser')\n",
    "\n",
    "# нашли табличку\n",
    "table = tree.find_all('table', {'class' : 'data'})[0]\n",
    "\n",
    "# распарсили её\n",
    "df = pd.read_html(str(table))[0]\n",
    "df.head()"
   ]
  },
  {
   "cell_type": "markdown",
   "metadata": {},
   "source": [
    "### Хитрость 3:  используйте пакет tqdm\n",
    "\n",
    "> Код уже работает час. Я вообще без понятия когда он закончит работу. Было бы круто узнать, сколько ещё ждать... \n",
    "\n",
    "Если в вашей голове возникла такая мысль, пакет `tqdm` ваш лучший друг. Установите его: ```pip install tqdm```"
   ]
  },
  {
   "cell_type": "code",
   "execution_count": 139,
   "metadata": {},
   "outputs": [
    {
     "name": "stderr",
     "output_type": "stream",
     "text": [
      "C:\\Users\\meale\\AppData\\Local\\Temp/ipykernel_41104/2779082389.py:6: TqdmDeprecationWarning: This function will be removed in tqdm==5.0.0\n",
      "Please use `tqdm.notebook.tqdm` instead of `tqdm.tqdm_notebook`\n",
      "  for i in tqdm_notebook(a):\n"
     ]
    },
    {
     "data": {
      "application/vnd.jupyter.widget-view+json": {
       "model_id": "f0b36db82abf4bc09fc34f950c12503e",
       "version_major": 2,
       "version_minor": 0
      },
      "text/plain": [
       "  0%|          | 0/30 [00:00<?, ?it/s]"
      ]
     },
     "metadata": {},
     "output_type": "display_data"
    }
   ],
   "source": [
    "from tqdm import tqdm_notebook\n",
    "\n",
    "a = list(range(30))\n",
    "\n",
    "# 30 раз будем спать по секунде\n",
    "for i in tqdm_notebook(a):\n",
    "    time.sleep(1)"
   ]
  },
  {
   "cell_type": "markdown",
   "metadata": {},
   "source": [
    "   "
   ]
  }
 ],
 "metadata": {
  "kernelspec": {
   "display_name": "Python 3 (ipykernel)",
   "language": "python",
   "name": "python3"
  },
  "language_info": {
   "codemirror_mode": {
    "name": "ipython",
    "version": 3
   },
   "file_extension": ".py",
   "mimetype": "text/x-python",
   "name": "python",
   "nbconvert_exporter": "python",
   "pygments_lexer": "ipython3",
   "version": "3.9.7"
  }
 },
 "nbformat": 4,
 "nbformat_minor": 2
}
